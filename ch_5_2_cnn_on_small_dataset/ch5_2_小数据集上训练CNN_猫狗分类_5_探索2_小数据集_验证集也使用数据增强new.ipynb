{
 "cells": [
  {
   "cell_type": "markdown",
   "metadata": {},
   "source": [
    "# 5.2-小数据集训练CNN（3）\n",
    "## 基准组实验条件\n",
    "### 数据集：小数据集\n",
    "### 训练集：1,000/类别\n",
    "### 验证集：500/类别\n",
    "### 测试集：500/类别\n",
    "### 是否使用数据增强：是（训练集/验证集同时使用数据增强）\n",
    "### 训练轮数：30\n",
    "### 可参考教材pp111-115"
   ]
  },
  {
   "cell_type": "markdown",
   "metadata": {},
   "source": [
    "## 1 建模，构建卷积神经网络\n",
    "### 与基准组完全一致"
   ]
  },
  {
   "cell_type": "code",
   "execution_count": null,
   "metadata": {},
   "outputs": [],
   "source": [
    "from keras import models\n",
    "from keras import layers\n",
    "\n",
    "#conv2D的filters从32增加到128\n",
    "my_network = models.Sequential()\n",
    "#32个filter\n",
    "my_network.add(layers.Conv2D(32,(3,3),activation = 'relu',input_shape = (150,150,3)))\n",
    "my_network.add(layers.MaxPooling2D((2,2)))\n",
    "#64个filter\n",
    "my_network.add(layers.Conv2D(64,(3,3),activation = 'relu'))\n",
    "my_network.add(layers.MaxPooling2D((2,2)))\n",
    "#128个filter\n",
    "my_network.add(layers.Conv2D(128,(3,3),activation = 'relu'))\n",
    "my_network.add(layers.MaxPooling2D((2,2)))\n",
    "#128个filter\n",
    "my_network.add(layers.Conv2D(128,(3,3),activation = 'relu'))\n",
    "my_network.add(layers.MaxPooling2D((2,2)))\n",
    "\n",
    "my_network.add(layers.Flatten()) #将3D展平为1D\n",
    "#为防止过拟合，使用dropout\n",
    "#my_network.add(layers.Dropout(0.5))\n",
    "my_network.add(layers.Dense(512, activation = 'relu'))\n",
    "my_network.add(layers.Dense(1,activation='sigmoid'))#最后输出二元分类概率"
   ]
  },
  {
   "cell_type": "code",
   "execution_count": null,
   "metadata": {},
   "outputs": [],
   "source": [
    "from keras import optimizers\n",
    "my_network.compile(optimizer = optimizers.RMSprop(lr = 1e-4), loss = 'binary_crossentropy', metrics = ['acc'])"
   ]
  },
  {
   "cell_type": "markdown",
   "metadata": {},
   "source": [
    "## 2 加数，加载数据并对图像预处理\n",
    "### 【注意】训练集与验证集需同时使用数据增强"
   ]
  },
  {
   "cell_type": "markdown",
   "metadata": {},
   "source": [
    "#### rotation_range：图像随机旋转角度\n",
    "#### width_shift/height_shift：是图像在水平和垂直方向上的平移范围\n",
    "#### shear_range：是随机错切变换角度\n",
    "#### zoom_range：是图像随机缩放范围\n",
    "#### horizontal_flip：水平翻转\n",
    "#### fill_mode：填充新创建的像素"
   ]
  },
  {
   "cell_type": "markdown",
   "metadata": {},
   "source": [
    "### 2.1 创建图片变换生成器实例，并定义图片变换规则"
   ]
  },
  {
   "cell_type": "code",
   "execution_count": 3,
   "metadata": {},
   "outputs": [
    {
     "name": "stderr",
     "output_type": "stream",
     "text": [
      "Using TensorFlow backend.\n"
     ]
    }
   ],
   "source": [
    "from keras.preprocessing.image import ImageDataGenerator"
   ]
  },
  {
   "cell_type": "code",
   "execution_count": 9,
   "metadata": {},
   "outputs": [
    {
     "name": "stdout",
     "output_type": "stream",
     "text": [
      "Found 2000 images belonging to 2 classes.\n"
     ]
    }
   ],
   "source": [
    "#训练集做数据增强处理\n",
    "train_datagen = ImageDataGenerator(\n",
    "    rescale = 1./255,\n",
    "    rotation_range = 40,\n",
    "    width_shift_range = 0.2,\n",
    "    height_shift_range = 0.2,\n",
    "    shear_range = 0.2,\n",
    "    zoom_range = 0.2,\n",
    "    horizontal_flip = True,\n",
    "    fill_mode = 'nearest')\n",
    "\n",
    "\n",
    "#特别注意！！在这里为验证集创建的图片生成器实例也要应用数据增强技术\n",
    "#test_datagen = ImageDataGenerator(rescale = 1./255)\n",
    "test_datagen = ImageDataGenerator(\n",
    "    rescale = 1./255,\n",
    "    rotation_range = 40,\n",
    "    width_shift_range = 0.2,\n",
    "    height_shift_range = 0.2,\n",
    "    shear_range = 0.2,\n",
    "    zoom_range = 0.2,\n",
    "    horizontal_flip = True,\n",
    "    fill_mode = 'nearest')\n"
   ]
  },
  {
   "cell_type": "markdown",
   "metadata": {},
   "source": [
    "### 2.2 对指定目录下的图片集应用图片变换生成器"
   ]
  },
  {
   "cell_type": "code",
   "execution_count": null,
   "metadata": {},
   "outputs": [],
   "source": [
    "#对指定目录下的训练集图片数据执行相应变换\n",
    "train_dir = 'E:/0-AI读书学习笔记/99-dataset-lib/cat_dog/small_dataset_cat_dog/train'\n",
    "train_generator = train_datagen.flow_from_directory(\n",
    "    train_dir,\n",
    "    target_size = (150,150),\n",
    "    batch_size = 32,\n",
    "    class_mode = 'binary')\n",
    "\n",
    "\n",
    "#对指定目录下的验证集图片数据执行相应变换\n",
    "validation_dir = 'E:/0-AI读书学习笔记/99-dataset-lib/cat_dog/small_dataset_cat_dog/validation'\n",
    "\n",
    "validation_generator = test_datagen.flow_from_directory(\n",
    "    validation_dir,\n",
    "    target_size = (150,150),\n",
    "    batch_size = 32,\n",
    "    class_mode = 'binary')"
   ]
  },
  {
   "cell_type": "markdown",
   "metadata": {},
   "source": [
    "## 3  训练，用fit_generator训练数据"
   ]
  },
  {
   "cell_type": "code",
   "execution_count": 13,
   "metadata": {},
   "outputs": [
    {
     "name": "stdout",
     "output_type": "stream",
     "text": [
      "Epoch 1/30\n",
      "100/100 [==============================] - 33s 329ms/step - loss: 0.6912 - acc: 0.5389 - val_loss: 0.6537 - val_acc: 0.5178\n",
      "Epoch 2/30\n",
      "100/100 [==============================] - 30s 298ms/step - loss: 0.6713 - acc: 0.5874 - val_loss: 0.6892 - val_acc: 0.5915\n",
      "Epoch 3/30\n",
      "100/100 [==============================] - 30s 299ms/step - loss: 0.6459 - acc: 0.6278 - val_loss: 0.6199 - val_acc: 0.5666\n",
      "Epoch 4/30\n",
      "100/100 [==============================] - 30s 303ms/step - loss: 0.6305 - acc: 0.6329 - val_loss: 0.5787 - val_acc: 0.6540\n",
      "Epoch 5/30\n",
      "100/100 [==============================] - 30s 302ms/step - loss: 0.6096 - acc: 0.6643 - val_loss: 0.6790 - val_acc: 0.6846\n",
      "Epoch 6/30\n",
      "100/100 [==============================] - 34s 335ms/step - loss: 0.5980 - acc: 0.6784 - val_loss: 0.5627 - val_acc: 0.6611\n",
      "Epoch 7/30\n",
      "100/100 [==============================] - 30s 303ms/step - loss: 0.5859 - acc: 0.6872 - val_loss: 0.5759 - val_acc: 0.6878\n",
      "Epoch 8/30\n",
      "100/100 [==============================] - 32s 321ms/step - loss: 0.5695 - acc: 0.7068 - val_loss: 0.5369 - val_acc: 0.6714\n",
      "Epoch 9/30\n",
      "100/100 [==============================] - 30s 304ms/step - loss: 0.5612 - acc: 0.7139 - val_loss: 0.7593 - val_acc: 0.6527\n",
      "Epoch 10/30\n",
      "100/100 [==============================] - 30s 302ms/step - loss: 0.5585 - acc: 0.7159 - val_loss: 0.6020 - val_acc: 0.6891\n",
      "Epoch 11/30\n",
      "100/100 [==============================] - 31s 313ms/step - loss: 0.5496 - acc: 0.7216 - val_loss: 0.6047 - val_acc: 0.7113\n",
      "Epoch 12/30\n",
      "100/100 [==============================] - 30s 304ms/step - loss: 0.5537 - acc: 0.7142 - val_loss: 0.5559 - val_acc: 0.7037\n",
      "Epoch 13/30\n",
      "100/100 [==============================] - 31s 309ms/step - loss: 0.5363 - acc: 0.7365 - val_loss: 0.6887 - val_acc: 0.7043\n",
      "Epoch 14/30\n",
      "100/100 [==============================] - 30s 302ms/step - loss: 0.5372 - acc: 0.7244 - val_loss: 0.4738 - val_acc: 0.6846\n",
      "Epoch 15/30\n",
      "100/100 [==============================] - 32s 320ms/step - loss: 0.5343 - acc: 0.7295 - val_loss: 0.5260 - val_acc: 0.7223\n",
      "Epoch 16/30\n",
      "100/100 [==============================] - 31s 312ms/step - loss: 0.5177 - acc: 0.7386 - val_loss: 0.2945 - val_acc: 0.7171\n",
      "Epoch 17/30\n",
      "100/100 [==============================] - 31s 308ms/step - loss: 0.5190 - acc: 0.7431 - val_loss: 0.4690 - val_acc: 0.7411\n",
      "Epoch 18/30\n",
      "100/100 [==============================] - 33s 332ms/step - loss: 0.5234 - acc: 0.7263 - val_loss: 0.4908 - val_acc: 0.7004\n",
      "Epoch 19/30\n",
      "100/100 [==============================] - 31s 313ms/step - loss: 0.5115 - acc: 0.7428 - val_loss: 0.4361 - val_acc: 0.7126\n",
      "Epoch 20/30\n",
      "100/100 [==============================] - 31s 311ms/step - loss: 0.5011 - acc: 0.7509 - val_loss: 0.4249 - val_acc: 0.7365\n",
      "Epoch 21/30\n",
      "100/100 [==============================] - 31s 312ms/step - loss: 0.5063 - acc: 0.7525 - val_loss: 0.4735 - val_acc: 0.7348\n",
      "Epoch 22/30\n",
      "100/100 [==============================] - 32s 318ms/step - loss: 0.4953 - acc: 0.7576 - val_loss: 0.4948 - val_acc: 0.7216\n",
      "Epoch 23/30\n",
      "100/100 [==============================] - 32s 325ms/step - loss: 0.4960 - acc: 0.7538 - val_loss: 0.3979 - val_acc: 0.7405\n",
      "Epoch 24/30\n",
      "100/100 [==============================] - 33s 329ms/step - loss: 0.4876 - acc: 0.7644 - val_loss: 0.5285 - val_acc: 0.7326\n",
      "Epoch 25/30\n",
      "100/100 [==============================] - 30s 305ms/step - loss: 0.4894 - acc: 0.7626 - val_loss: 0.4666 - val_acc: 0.7204\n",
      "Epoch 26/30\n",
      "100/100 [==============================] - 31s 310ms/step - loss: 0.4726 - acc: 0.7710 - val_loss: 0.5457 - val_acc: 0.7126\n",
      "Epoch 27/30\n",
      "100/100 [==============================] - 31s 307ms/step - loss: 0.4753 - acc: 0.7689 - val_loss: 0.4366 - val_acc: 0.7055\n",
      "Epoch 28/30\n",
      "100/100 [==============================] - 32s 319ms/step - loss: 0.4720 - acc: 0.7701 - val_loss: 0.3799 - val_acc: 0.7303\n",
      "Epoch 29/30\n",
      "100/100 [==============================] - 31s 313ms/step - loss: 0.4662 - acc: 0.7775 - val_loss: 0.4911 - val_acc: 0.7216\n",
      "Epoch 30/30\n",
      "100/100 [==============================] - 31s 309ms/step - loss: 0.4831 - acc: 0.7699 - val_loss: 0.4346 - val_acc: 0.7462\n"
     ]
    }
   ],
   "source": [
    "history_data_arg = my_network.fit_generator(\n",
    "    train_generator,\n",
    "    steps_per_epoch = 100,\n",
    "    epochs = 30,\n",
    "    validation_data = validation_generator,\n",
    "    validation_steps = 50)"
   ]
  },
  {
   "cell_type": "code",
   "execution_count": 14,
   "metadata": {},
   "outputs": [],
   "source": [
    "my_network.save('E:/0-AI读书学习笔记/0-python深度学习/0-model_repo/cats_and_dogs_small_my_network_with_DR_also_DR_in_validation.h5')"
   ]
  },
  {
   "cell_type": "markdown",
   "metadata": {},
   "source": [
    "## 4 评估模型 \n",
    "### 4.1 参考训练数据预处理方法，定义测试集图片文件预处理函数\n",
    "#### step 1:读取图像\n",
    "#### step 2:将JPG文件解码为RGB像素网络\n",
    "#### step 3:将像素网络转换为浮点张量\n",
    "#### step 4:将[0,255]的像素值缩放到[0,1]"
   ]
  },
  {
   "cell_type": "code",
   "execution_count": 1,
   "metadata": {},
   "outputs": [],
   "source": [
    "import numpy as np\n",
    "def preprocess_img(img):\n",
    "    x1 = image.img_to_array(img)\n",
    "    x2 = x1 * 1./255\n",
    "    x3 = np.expand_dims(x2, axis = 0)\n",
    "    return x3"
   ]
  },
  {
   "cell_type": "markdown",
   "metadata": {},
   "source": [
    "### 4.2 评估模型在训练集/验证集损失函数变化趋势"
   ]
  },
  {
   "cell_type": "code",
   "execution_count": 24,
   "metadata": {},
   "outputs": [
    {
     "data": {
      "image/png": "[encoded data removed]",
      "text/plain": [
       "<Figure size 432x288 with 1 Axes>"
      ]
     },
     "metadata": {
      "needs_background": "light"
     },
     "output_type": "display_data"
    }
   ],
   "source": [
    "#import matplotlib.pyplot as plt\n",
    "\n",
    "train_loss = history_data_arg.history['loss']\n",
    "val_loss = history_data_arg.history['val_loss']\n",
    "\n",
    "epochs = range(1, len(train_loss)+1)\n",
    "\n",
    "plt.plot(epochs, train_loss, 'b', label = 'Traning Loss')\n",
    "plt.plot(epochs, val_loss, 'r', label = 'Val Loss')\n",
    "\n",
    "plt.xlabel('epochs')\n",
    "plt.ylabel('Loss')\n",
    "\n",
    "plt.legend()\n",
    "plt.show()"
   ]
  },
  {
   "cell_type": "markdown",
   "metadata": {},
   "source": [
    "### 由上图，模型______"
   ]
  },
  {
   "cell_type": "markdown",
   "metadata": {},
   "source": [
    "### 4.3 评估模型在训练集/验证集分类准确率变化趋势"
   ]
  },
  {
   "cell_type": "code",
   "execution_count": 25,
   "metadata": {},
   "outputs": [
    {
     "data": {
      "image/png": "[encoded data removed]",
      "text/plain": [
       "<Figure size 432x288 with 1 Axes>"
      ]
     },
     "metadata": {
      "needs_background": "light"
     },
     "output_type": "display_data"
    }
   ],
   "source": [
    "train_acc = history_data_arg.history['acc']\n",
    "val_acc = history_data_arg.history['val_acc']\n",
    "\n",
    "plt.plot(epochs, train_acc, 'b', label = 'Traning Acc')\n",
    "plt.plot(epochs, val_acc, 'r', label = 'Val Acc')\n",
    "\n",
    "plt.xlabel('epochs')\n",
    "plt.ylabel('acc')\n",
    "\n",
    "plt.legend()\n",
    "plt.show()"
   ]
  },
  {
   "cell_type": "markdown",
   "metadata": {},
   "source": [
    "### 由上图，模型在_______"
   ]
  },
  {
   "cell_type": "markdown",
   "metadata": {},
   "source": [
    "### 4.4 评估模型在测试集上的表现"
   ]
  },
  {
   "cell_type": "code",
   "execution_count": 26,
   "metadata": {},
   "outputs": [],
   "source": [
    "import os\n",
    "from keras.preprocessing import image\n",
    "\n",
    "classes = ['cats','dogs']\n",
    "files_name = []\n",
    "test_true_labels = []\n",
    "test_pred_labels = []\n",
    "test_pred_probs = []\n",
    "\n",
    "for c in classes:\n",
    "    test_class_dir = 'E:/0-AI读书学习笔记/99-dataset-lib/cat_dog/small_dataset_cat_dog/test/{}'.format(c)\n",
    "    for f in os.listdir(test_class_dir):\n",
    "        \n",
    "        files_name.append(f)\n",
    "        test_true_labels.append(f[0:3])\n",
    "        \n",
    "        img_path = os.path.join(test_class_dir, f)\n",
    "        img = image.load_img(img_path, target_size = (150, 150))\n",
    "        pred = my_network.predict(preprocess_img(img))\n",
    "        test_pred_probs.append(pred)\n",
    "        \n",
    "        pred_label = None\n",
    "        if pred[0] > 0.5:\n",
    "            pred_label = 'dog'\n",
    "        else:\n",
    "            pred_label = 'cat'\n",
    "        test_pred_labels.append(pred_label)\n",
    "        \n",
    "\n",
    "\n",
    "import pandas as pd\n",
    "df = pd.DataFrame(data={'file':files_name, 'true_label':test_true_labels,  'pred_label':test_pred_labels, 'pred_prob':test_pred_probs})\n",
    "\n",
    "    \n",
    "pred_correct_records = df[df['true_label'] == df['pred_label']].shape[0]\n",
    "correct_rate = float(pred_correct_records)/float(1000)\n",
    "correct_rate  "
   ]
  },
  {
   "cell_type": "markdown",
   "metadata": {},
   "source": [
    "### 该模型在测试集上的分类准确率为___"
   ]
  }
 ],
 "metadata": {
  "kernelspec": {
   "display_name": "Python 3",
   "language": "python",
   "name": "python3"
  },
  "language_info": {
   "codemirror_mode": {
    "name": "ipython",
    "version": 3
   },
   "file_extension": ".py",
   "mimetype": "text/x-python",
   "name": "python",
   "nbconvert_exporter": "python",
   "pygments_lexer": "ipython3",
   "version": "3.7.3"
  }
 },
 "nbformat": 4,
 "nbformat_minor": 2
}
