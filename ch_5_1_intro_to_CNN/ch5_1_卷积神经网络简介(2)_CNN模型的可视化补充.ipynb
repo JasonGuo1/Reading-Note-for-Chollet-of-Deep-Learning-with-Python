{
 "cells": [
  {
   "cell_type": "markdown",
   "metadata": {},
   "source": [
    "## 1.生成类激活可视化图\n",
    "### 说明：本部分内容提前采用了教材5.4.3节的内容，如果看不懂，也不必着急，可以等到看完对应章节的讲解后再实现"
   ]
  },
  {
   "cell_type": "code",
   "execution_count": 20,
   "metadata": {},
   "outputs": [
    {
     "name": "stdout",
     "output_type": "stream",
     "text": [
      "WARNING:tensorflow:From C:\\Users\\PC\\Anaconda3\\lib\\site-packages\\tensorflow\\python\\ops\\resource_variable_ops.py:1666: calling BaseResourceVariable.__init__ (from tensorflow.python.ops.resource_variable_ops) with constraint is deprecated and will be removed in a future version.\n",
      "Instructions for updating:\n",
      "If using Keras pass *_constraint arguments to layers.\n"
     ]
    }
   ],
   "source": [
    "from keras.models import load_model\n",
    "#加载未使用数据增强的网络模型\n",
    "\n",
    "#network_cnn_maxpool = load_model('D:/2-AI读书学习笔记/0-python深度学习/0-model_repo/ch5_1_network_cnn_maxpool.h5')\n",
    "model = load_model('D:/2-AI读书学习笔记/0-python深度学习/0-model_repo/ch5_1_network_cnn_deeper.h5')"
   ]
  },
  {
   "cell_type": "code",
   "execution_count": 21,
   "metadata": {},
   "outputs": [],
   "source": [
    "#network_cnn_maxpool.get_layer('conv2d_20').output_shape[-1]  "
   ]
  },
  {
   "cell_type": "code",
   "execution_count": 22,
   "metadata": {},
   "outputs": [
    {
     "data": {
      "image/png": "[encoded data removed]",
      "text/plain": [
       "<Figure size 432x288 with 1 Axes>"
      ]
     },
     "metadata": {
      "needs_background": "light"
     },
     "output_type": "display_data"
    }
   ],
   "source": [
    "from keras.datasets import mnist\n",
    "from keras.utils import to_categorical\n",
    "import os\n",
    "import matplotlib.pyplot as plt\n",
    "\n",
    "# -*- coding: utf-8 -*-\n",
    "(train_images, train_labels),(test_images, test_labels)=mnist.load_data(path = 'D:/2-AI读书学习笔记/99-dataset-lib/mnist/mnist.npz')\n",
    "#以图片形式展现\n",
    "\n",
    "\n",
    "plt.imshow(train_images[0],cmap = plt.get_cmap('gray'))\n",
    "plt.show()"
   ]
  },
  {
   "cell_type": "code",
   "execution_count": 23,
   "metadata": {},
   "outputs": [
    {
     "data": {
      "image/png": "[encoded data removed]",
      "text/plain": [
       "<Figure size 432x288 with 1 Axes>"
      ]
     },
     "metadata": {
      "needs_background": "light"
     },
     "output_type": "display_data"
    }
   ],
   "source": [
    "import matplotlib.pyplot as plt\n",
    "\n",
    "plt.imshow(test_images[0],cmap = plt.get_cmap('gray'))\n",
    "plt.show()"
   ]
  },
  {
   "cell_type": "code",
   "execution_count": 24,
   "metadata": {},
   "outputs": [],
   "source": [
    "preprocessed_test_images_7 = test_images[0].reshape((1,28,28,1))\n",
    "preprocessed_test_images_7 = preprocessed_test_images_7.astype('float32')/255"
   ]
  },
  {
   "cell_type": "code",
   "execution_count": 25,
   "metadata": {},
   "outputs": [],
   "source": [
    "#network_cnn_maxpool.predict(preprocessed_test_images_7).max()"
   ]
  },
  {
   "cell_type": "code",
   "execution_count": 26,
   "metadata": {},
   "outputs": [
    {
     "name": "stdout",
     "output_type": "stream",
     "text": [
      "Model: \"sequential_6\"\n",
      "_________________________________________________________________\n",
      "Layer (type)                 Output Shape              Param #   \n",
      "=================================================================\n",
      "conv2d_10 (Conv2D)           (None, 26, 26, 32)        320       \n",
      "_________________________________________________________________\n",
      "conv2d_11 (Conv2D)           (None, 24, 24, 32)        9248      \n",
      "_________________________________________________________________\n",
      "max_pooling2d_5 (MaxPooling2 (None, 12, 12, 32)        0         \n",
      "_________________________________________________________________\n",
      "conv2d_12 (Conv2D)           (None, 10, 10, 64)        18496     \n",
      "_________________________________________________________________\n",
      "conv2d_13 (Conv2D)           (None, 8, 8, 64)          36928     \n",
      "_________________________________________________________________\n",
      "conv2d_14 (Conv2D)           (None, 6, 6, 64)          36928     \n",
      "_________________________________________________________________\n",
      "max_pooling2d_6 (MaxPooling2 (None, 3, 3, 64)          0         \n",
      "_________________________________________________________________\n",
      "flatten_4 (Flatten)          (None, 576)               0         \n",
      "_________________________________________________________________\n",
      "dense_12 (Dense)             (None, 64)                36928     \n",
      "_________________________________________________________________\n",
      "dense_13 (Dense)             (None, 10)                650       \n",
      "=================================================================\n",
      "Total params: 139,498\n",
      "Trainable params: 139,498\n",
      "Non-trainable params: 0\n",
      "_________________________________________________________________\n"
     ]
    }
   ],
   "source": [
    "model.summary()"
   ]
  },
  {
   "cell_type": "code",
   "execution_count": 27,
   "metadata": {},
   "outputs": [],
   "source": [
    "# import numpy as np\n",
    "# from keras import backend as K\n",
    "# import tensorflow as tf\n",
    "# import cv2\n",
    "# tf.compat.v1.disable_eager_execution() \n",
    "\n",
    "# # src_sample = test_images[0]\n",
    "# # sample_size = (28,28)\n",
    "# # class_output_no = 7\n",
    "# def get_heatmap(src_sample,processed_sample,sample_size,model,layer_name,class_output_no):\n",
    "    \n",
    "#     #获取模型对指定类别的输出\n",
    "#     model_output = model.output[:,class_output_no] #argmax\n",
    "#     #获取指定层实例\n",
    "#     last_conv_layer = model.get_layer(layer_name)\n",
    "#     #求模型输出关于指定层输出的梯度\n",
    "#     grads = K.gradients(model_output, last_conv_layer.output)[0]\n",
    "#     #求平均梯度\n",
    "#     averaged_grads = K.mean(grads, axis =(0,1,2))\n",
    "#     #创建函数，x:模型输入张量 y：平均梯度、指定层的输出\n",
    "#     iterate = K.function([model.input], [averaged_grads,last_conv_layer.output[0]])\n",
    "#     #带入实际样本值\n",
    "#     averaged_grads_output, last_conv_layer_output = iterate([preprocessed_sample])\n",
    "    \n",
    "#     maps = model.get_layer(layer_name).output_shape[-1]\n",
    "#     for i in range(maps):\n",
    "#         last_conv_layer_output[:,:,i] *= averaged_grads_output[i]\n",
    "       \n",
    "#     #为了将热力图可视化，去除所有负数\n",
    "#     heatmap_output = np.maximum(heatmap_output, 0)\n",
    "#     #归一化处理\n",
    "#     heatmap_output = heatmap_output / np.max(heatmap_output)\n",
    "    \n",
    "    \n",
    "#     heatmap_output = cv2.resize(heatmap_output,sample_size)\n",
    "\n",
    "#     heatmap_output = np.uint8(255 * heatmap_output)\n",
    "\n",
    "#     heatmap_output = cv2.applyColorMap(heatmap_output, cv2.COLORMAP_JET)\n",
    "\n",
    "#     src_RGB = cv2.cvtColor(src_sample, cv2.COLOR_GRAY2BGR)\n",
    "\n",
    "#     superimposed_output = heatmap_output * 0.4 + src_RGB\n",
    "\n",
    "#     save_path = \"D:/2-AI读书学习笔记/0-python深度学习/1-dataset_repo/mnist_result.jpg\"\n",
    "#     cv2.imencode('.jpg',superimposed_output)[1].tofile(save_path)\n",
    "\n",
    "    \n",
    "#     return save_path"
   ]
  },
  {
   "cell_type": "code",
   "execution_count": 28,
   "metadata": {},
   "outputs": [],
   "source": [
    "import numpy as np\n",
    "\n",
    "model_output = model.output[:,7] #argmax\n",
    "last_conv_layer = model.get_layer('max_pooling2d_6')"
   ]
  },
  {
   "cell_type": "code",
   "execution_count": 29,
   "metadata": {},
   "outputs": [],
   "source": [
    "from keras import backend as K\n",
    "import tensorflow as tf\n",
    "tf.compat.v1.disable_eager_execution() \n",
    "\n",
    "grads = K.gradients(model_output, last_conv_layer.output)[0]"
   ]
  },
  {
   "cell_type": "code",
   "execution_count": 30,
   "metadata": {},
   "outputs": [],
   "source": [
    "averaged_grads = K.mean(grads, axis =(0,1,2))"
   ]
  },
  {
   "cell_type": "code",
   "execution_count": 31,
   "metadata": {},
   "outputs": [],
   "source": [
    "iterate = K.function([model.input], [averaged_grads,last_conv_layer.output[0]])"
   ]
  },
  {
   "cell_type": "code",
   "execution_count": 32,
   "metadata": {},
   "outputs": [],
   "source": [
    "averaged_grads_7, last_conv_layer_7 = iterate([preprocessed_test_images_7])"
   ]
  },
  {
   "cell_type": "code",
   "execution_count": 33,
   "metadata": {},
   "outputs": [],
   "source": [
    "#last_conv_layer_x 形状为 (15,15,128)\n",
    "for i in range(64):\n",
    "    last_conv_layer_7[:,:,i] *= averaged_grads_7[i]"
   ]
  },
  {
   "cell_type": "code",
   "execution_count": 34,
   "metadata": {},
   "outputs": [],
   "source": [
    "heatmap_7 = np.mean(last_conv_layer_7, axis = -1)"
   ]
  },
  {
   "cell_type": "code",
   "execution_count": 35,
   "metadata": {},
   "outputs": [
    {
     "data": {
      "text/plain": [
       "(3, 3)"
      ]
     },
     "execution_count": 35,
     "metadata": {},
     "output_type": "execute_result"
    }
   ],
   "source": [
    "heatmap_7.shape"
   ]
  },
  {
   "cell_type": "code",
   "execution_count": 36,
   "metadata": {},
   "outputs": [],
   "source": [
    "#为了将热力图可视化，去除所有负数\n",
    "heatmap_7 = np.maximum(heatmap_7, 0)\n",
    "#归一化处理\n",
    "heatmap_7 = heatmap_7 / np.max(heatmap_7)"
   ]
  },
  {
   "cell_type": "code",
   "execution_count": 37,
   "metadata": {},
   "outputs": [
    {
     "data": {
      "text/plain": [
       "(3, 3)"
      ]
     },
     "execution_count": 37,
     "metadata": {},
     "output_type": "execute_result"
    }
   ],
   "source": [
    "heatmap_7.shape"
   ]
  },
  {
   "cell_type": "code",
   "execution_count": 38,
   "metadata": {},
   "outputs": [
    {
     "data": {
      "text/plain": [
       "<matplotlib.image.AxesImage at 0x2425d307748>"
      ]
     },
     "execution_count": 38,
     "metadata": {},
     "output_type": "execute_result"
    },
    {
     "data": {
      "image/png": "[encoded data removed]",
      "text/plain": [
       "<Figure size 288x288 with 1 Axes>"
      ]
     },
     "metadata": {
      "needs_background": "light"
     },
     "output_type": "display_data"
    }
   ],
   "source": [
    "plt.matshow(heatmap_7)"
   ]
  },
  {
   "cell_type": "code",
   "execution_count": 39,
   "metadata": {},
   "outputs": [],
   "source": [
    "import cv2\n",
    "\n",
    "heatmap_7 = cv2.resize(heatmap_7, (28,28))\n",
    "\n",
    "heatmap_7 = np.uint8(255 * heatmap_7)\n",
    "\n",
    "heatmap_7 = cv2.applyColorMap(heatmap_7, cv2.COLORMAP_JET)\n",
    "\n",
    "\n",
    "src_RGB = cv2.cvtColor(test_images[0], cv2.COLOR_GRAY2BGR)\n",
    "\n",
    "superimposed_7 = heatmap_7 * 0.4 + src_RGB\n",
    "\n",
    "save_path = \"D:/2-AI读书学习笔记/0-python深度学习/1-dataset_repo/mnist_result.jpg\"\n",
    "cv2.imencode('.jpg',superimposed_7)[1].tofile(save_path)"
   ]
  },
  {
   "cell_type": "code",
   "execution_count": 40,
   "metadata": {},
   "outputs": [
    {
     "data": {
      "text/plain": [
       "<matplotlib.image.AxesImage at 0x2425e9aba90>"
      ]
     },
     "execution_count": 40,
     "metadata": {},
     "output_type": "execute_result"
    },
    {
     "data": {
      "image/png": "[encoded data removed]",
      "text/plain": [
       "<Figure size 432x288 with 1 Axes>"
      ]
     },
     "metadata": {
      "needs_background": "light"
     },
     "output_type": "display_data"
    }
   ],
   "source": [
    "from keras.preprocessing import image\n",
    "heatmap_img = image.load_img('D:/2-AI读书学习笔记/0-python深度学习/1-dataset_repo/mnist_result.jpg')\n",
    "plt.imshow(heatmap_img)"
   ]
  },
  {
   "cell_type": "markdown",
   "metadata": {},
   "source": [
    "## 2.生成过滤器可视化图\n",
    "### 说明：本部分内容提前采用了教材5.4.1节的内容，如果看不懂，也不必着急，可以等到看完对应章节的讲解后再实现"
   ]
  },
  {
   "cell_type": "code",
   "execution_count": 92,
   "metadata": {},
   "outputs": [],
   "source": [
    "from keras.models import load_model\n",
    "#加载未使用数据增强的网络模型\n",
    "\n",
    "#network_cnn_maxpool = load_model('D:/2-AI读书学习笔记/0-python深度学习/0-model_repo/ch5_1_network_cnn_maxpool.h5')\n",
    "model = load_model('D:/2-AI读书学习笔记/0-python深度学习/0-model_repo/ch5_1_network_cnn_strid2.h5')"
   ]
  },
  {
   "cell_type": "code",
   "execution_count": 93,
   "metadata": {},
   "outputs": [
    {
     "name": "stdout",
     "output_type": "stream",
     "text": [
      "Model: \"sequential\"\n",
      "_________________________________________________________________\n",
      "Layer (type)                 Output Shape              Param #   \n",
      "=================================================================\n",
      "conv2d (Conv2D)              (None, 13, 13, 32)        320       \n",
      "_________________________________________________________________\n",
      "max_pooling2d (MaxPooling2D) (None, 6, 6, 32)          0         \n",
      "_________________________________________________________________\n",
      "conv2d_1 (Conv2D)            (None, 2, 2, 64)          18496     \n",
      "_________________________________________________________________\n",
      "max_pooling2d_1 (MaxPooling2 (None, 1, 1, 64)          0         \n",
      "_________________________________________________________________\n",
      "flatten (Flatten)            (None, 64)                0         \n",
      "_________________________________________________________________\n",
      "dense (Dense)                (None, 64)                4160      \n",
      "_________________________________________________________________\n",
      "dense_1 (Dense)              (None, 10)                650       \n",
      "=================================================================\n",
      "Total params: 23,626\n",
      "Trainable params: 23,626\n",
      "Non-trainable params: 0\n",
      "_________________________________________________________________\n"
     ]
    }
   ],
   "source": [
    "model.summary()"
   ]
  },
  {
   "cell_type": "code",
   "execution_count": 94,
   "metadata": {},
   "outputs": [
    {
     "name": "stderr",
     "output_type": "stream",
     "text": [
      "C:\\Users\\PC\\Anaconda3\\lib\\site-packages\\ipykernel_launcher.py:39: RuntimeWarning: invalid value encountered in true_divide\n"
     ]
    },
    {
     "data": {
      "image/png": "[encoded data removed]",
      "text/plain": [
       "<Figure size 1152x144 with 1 Axes>"
      ]
     },
     "metadata": {
      "needs_background": "light"
     },
     "output_type": "display_data"
    },
    {
     "data": {
      "image/png": "[encoded data removed]",
      "text/plain": [
       "<Figure size 1152x144 with 1 Axes>"
      ]
     },
     "metadata": {
      "needs_background": "light"
     },
     "output_type": "display_data"
    },
    {
     "data": {
      "image/png": "[encoded data removed]",
      "text/plain": [
       "<Figure size 1152x288 with 1 Axes>"
      ]
     },
     "metadata": {
      "needs_background": "light"
     },
     "output_type": "display_data"
    },
    {
     "data": {
      "image/png": "[encoded data removed]",
      "text/plain": [
       "<Figure size 1152x288 with 1 Axes>"
      ]
     },
     "metadata": {
      "needs_background": "light"
     },
     "output_type": "display_data"
    }
   ],
   "source": [
    "from keras import models\n",
    "\n",
    "layer_outputs = [layer.output for layer in model.layers[:4]]\n",
    "\n",
    "activation_model = models.Model(inputs = model.input, outputs = layer_outputs)\n",
    "\n",
    "activations = activation_model.predict(preprocessed_test_images_7)\n",
    "\n",
    "layer_name = []\n",
    "\n",
    "#取model前8层的层名称\n",
    "for l in model.layers[:4]:\n",
    "    layer_name.append(l.name)\n",
    "\n",
    "    \n",
    "\n",
    "\n",
    "images_per_row = 16 #每行放置16个可视化图片\n",
    "\n",
    "#将每个网络层的名字与输出张量配对\n",
    "#name表示网络层名称，act表示该层激活函数输出的四维张量值\n",
    "for name, act in zip(layer_name,activations):\n",
    "    #取各层的通道数，每层输出张量(批次数, 通道长，通道宽，通道数)，特别注意本模型中每个网络层的通道长与宽相等\n",
    "    n_features = act.shape[-1]\n",
    "    #排列各通道输出激活函数值\n",
    "    rows = n_features//images_per_row\n",
    "    size = act.shape[1]\n",
    "    #预先建立承载可视化矩阵的网格，即每个网络层所有通道所需要的的数组大小\n",
    "    display_grid = np.zeros((size * rows, size * images_per_row))\n",
    "    \n",
    "    #遍历每一行\n",
    "    for r in range(rows):\n",
    "        #遍历每一个通道\n",
    "        for i in range(images_per_row):\n",
    "            #逐个获取每个通道的img数组\n",
    "            channel_img =act[0,:,:, r * images_per_row + i]\n",
    "            #对特征进行预处理，即标准化处理，类同z-score，使可视化效果更好\n",
    "            channel_img -= channel_img.mean()\n",
    "            channel_img /= channel_img.std()\n",
    "            channel_img *= 64\n",
    "            channel_img += 128\n",
    "            #np.clip()将数组按min-max范围进行截取\n",
    "            channel_img = np.clip(channel_img, 0, 255).astype('uint8')\n",
    "\n",
    "            \n",
    "            #将通道图像逐个装入网格中\n",
    "            display_grid[ r*size:(r+1)*size, i*size:(i+1)*size] = channel_img\n",
    "            scale = 1./size\n",
    "            \n",
    "    scale = 1./size\n",
    "    plt.figure(figsize = (scale * display_grid.shape[1], scale * display_grid.shape[0]))\n",
    "    plt.title(name)\n",
    "    plt.grid(False)\n",
    "    plt.imshow(display_grid, aspect = 'auto', cmap = 'viridis')"
   ]
  },
  {
   "cell_type": "code",
   "execution_count": null,
   "metadata": {},
   "outputs": [],
   "source": []
  }
 ],
 "metadata": {
  "kernelspec": {
   "display_name": "Python 3",
   "language": "python",
   "name": "python3"
  },
  "language_info": {
   "codemirror_mode": {
    "name": "ipython",
    "version": 3
   },
   "file_extension": ".py",
   "mimetype": "text/x-python",
   "name": "python",
   "nbconvert_exporter": "python",
   "pygments_lexer": "ipython3",
   "version": "3.7.3"
  }
 },
 "nbformat": 4,
 "nbformat_minor": 2
}
