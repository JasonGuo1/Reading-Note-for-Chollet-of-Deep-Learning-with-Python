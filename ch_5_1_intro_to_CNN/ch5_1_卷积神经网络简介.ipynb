{
 "cells": [
  {
   "cell_type": "markdown",
   "metadata": {},
   "source": [
    "# 卷积神经网络入门"
   ]
  },
  {
   "cell_type": "markdown",
   "metadata": {},
   "source": [
    "## 1 尝试不同模型"
   ]
  },
  {
   "cell_type": "code",
   "execution_count": 1,
   "metadata": {},
   "outputs": [],
   "source": [
    "from keras import models\n",
    "from keras import layers"
   ]
  },
  {
   "cell_type": "markdown",
   "metadata": {},
   "source": [
    "### 1.1 基准模型：带局部最大池化层的CNN\n",
    "\n",
    "### Conv2D + MaxPooling2D + Conv2D + MaxPooling2D + Flatten + Dense + Dense"
   ]
  },
  {
   "cell_type": "code",
   "execution_count": 2,
   "metadata": {},
   "outputs": [],
   "source": [
    "network_cnn_maxpool = models.Sequential()\n",
    "network_cnn_maxpool.add(layers.Conv2D(32,(3,3), activation = 'relu', input_shape = (28,28,1))) #输入：高度 x 宽度 x 颜色通道\n",
    "network_cnn_maxpool.add(layers.MaxPooling2D((2,2)))\n",
    "network_cnn_maxpool.add(layers.Conv2D(64,(3,3), activation = 'relu'))\n",
    "network_cnn_maxpool.add(layers.MaxPooling2D((2,2)))\n",
    "\n",
    "network_cnn_maxpool.add(layers.Flatten()) #将3D压缩为1D\n",
    "network_cnn_maxpool.add(layers.Dense(64, activation = 'relu'))\n",
    "network_cnn_maxpool.add(layers.Dense(10, activation = 'softmax'))"
   ]
  },
  {
   "cell_type": "code",
   "execution_count": 3,
   "metadata": {},
   "outputs": [
    {
     "name": "stdout",
     "output_type": "stream",
     "text": [
      "Model: \"sequential\"\n",
      "_________________________________________________________________\n",
      "Layer (type)                 Output Shape              Param #   \n",
      "=================================================================\n",
      "conv2d (Conv2D)              (None, 26, 26, 32)        320       \n",
      "_________________________________________________________________\n",
      "max_pooling2d (MaxPooling2D) (None, 13, 13, 32)        0         \n",
      "_________________________________________________________________\n",
      "conv2d_1 (Conv2D)            (None, 11, 11, 64)        18496     \n",
      "_________________________________________________________________\n",
      "max_pooling2d_1 (MaxPooling2 (None, 5, 5, 64)          0         \n",
      "_________________________________________________________________\n",
      "flatten (Flatten)            (None, 1600)              0         \n",
      "_________________________________________________________________\n",
      "dense (Dense)                (None, 64)                102464    \n",
      "_________________________________________________________________\n",
      "dense_1 (Dense)              (None, 10)                650       \n",
      "=================================================================\n",
      "Total params: 121,930\n",
      "Trainable params: 121,930\n",
      "Non-trainable params: 0\n",
      "_________________________________________________________________\n"
     ]
    }
   ],
   "source": [
    "network_cnn_maxpool.summary()"
   ]
  },
  {
   "cell_type": "code",
   "execution_count": 4,
   "metadata": {},
   "outputs": [],
   "source": [
    "network_cnn_maxpool.compile(optimizer = 'rmsprop', loss = 'categorical_crossentropy', metrics = ['accuracy'])"
   ]
  },
  {
   "cell_type": "markdown",
   "metadata": {},
   "source": [
    "### 1.2 对比模型1：MLP方式，即通过简单的全连接层进行分类\n",
    "\n",
    "### Flatten层+2个全连接层"
   ]
  },
  {
   "cell_type": "markdown",
   "metadata": {},
   "source": [
    "#### 初始化&加层"
   ]
  },
  {
   "cell_type": "code",
   "execution_count": 5,
   "metadata": {},
   "outputs": [],
   "source": [
    "network_mlp = models.Sequential()\n",
    "network_mlp.add(layers.Flatten(input_shape = (28,28,1))) #调整输入形状，从2D转换为1D，X_train.shape[1:]表示每张图片的长度和宽度\n",
    "network_mlp.add(layers.Dense(64, activation = 'relu'))\n",
    "network_mlp.add(layers.Dense(10, activation = 'softmax'))"
   ]
  },
  {
   "cell_type": "markdown",
   "metadata": {},
   "source": [
    "#### 编译"
   ]
  },
  {
   "cell_type": "code",
   "execution_count": 6,
   "metadata": {},
   "outputs": [],
   "source": [
    "network_mlp.compile(optimizer = 'rmsprop', loss = 'categorical_crossentropy', metrics = ['accuracy'])"
   ]
  },
  {
   "cell_type": "code",
   "execution_count": 7,
   "metadata": {},
   "outputs": [
    {
     "name": "stdout",
     "output_type": "stream",
     "text": [
      "Model: \"sequential_1\"\n",
      "_________________________________________________________________\n",
      "Layer (type)                 Output Shape              Param #   \n",
      "=================================================================\n",
      "flatten_1 (Flatten)          (None, 784)               0         \n",
      "_________________________________________________________________\n",
      "dense_2 (Dense)              (None, 64)                50240     \n",
      "_________________________________________________________________\n",
      "dense_3 (Dense)              (None, 10)                650       \n",
      "=================================================================\n",
      "Total params: 50,890\n",
      "Trainable params: 50,890\n",
      "Non-trainable params: 0\n",
      "_________________________________________________________________\n"
     ]
    }
   ],
   "source": [
    "network_mlp.summary()"
   ]
  },
  {
   "cell_type": "markdown",
   "metadata": {},
   "source": [
    "### 1.3 对比模型2：带全局最大池化层的CNN\n",
    "\n",
    "### Conv2D + GlobalMaxPooling2D + Conv2D + AveragePooling2D + Flatten + Dense + Dense"
   ]
  },
  {
   "cell_type": "code",
   "execution_count": 8,
   "metadata": {},
   "outputs": [],
   "source": [
    "network_cnn_globalmaxpool = models.Sequential()\n",
    "network_cnn_globalmaxpool.add(layers.Conv2D(32,(3,3), activation = 'relu', input_shape = (28,28,1))) #输入：高度 x 宽度 x 颜色通道\n",
    "network_cnn_globalmaxpool.add(layers.MaxPooling2D((2,2)))\n",
    "network_cnn_globalmaxpool.add(layers.Conv2D(64,(3,3), activation = 'relu'))\n",
    "#全局最大化\n",
    "network_cnn_globalmaxpool.add(layers.GlobalMaxPooling2D())\n",
    "\n",
    "#network_cnn_globalmaxpool.add(layers.Flatten()) #将3D压缩为1D\n",
    "network_cnn_globalmaxpool.add(layers.Dense(64, activation = 'relu'))\n",
    "network_cnn_globalmaxpool.add(layers.Dense(10, activation = 'softmax'))"
   ]
  },
  {
   "cell_type": "code",
   "execution_count": 9,
   "metadata": {},
   "outputs": [],
   "source": [
    "network_cnn_globalmaxpool.compile(optimizer = 'rmsprop', loss = 'categorical_crossentropy', metrics = ['accuracy'])"
   ]
  },
  {
   "cell_type": "code",
   "execution_count": 10,
   "metadata": {},
   "outputs": [
    {
     "name": "stdout",
     "output_type": "stream",
     "text": [
      "Model: \"sequential_2\"\n",
      "_________________________________________________________________\n",
      "Layer (type)                 Output Shape              Param #   \n",
      "=================================================================\n",
      "conv2d_2 (Conv2D)            (None, 26, 26, 32)        320       \n",
      "_________________________________________________________________\n",
      "max_pooling2d_2 (MaxPooling2 (None, 13, 13, 32)        0         \n",
      "_________________________________________________________________\n",
      "conv2d_3 (Conv2D)            (None, 11, 11, 64)        18496     \n",
      "_________________________________________________________________\n",
      "global_max_pooling2d (Global (None, 64)                0         \n",
      "_________________________________________________________________\n",
      "dense_4 (Dense)              (None, 64)                4160      \n",
      "_________________________________________________________________\n",
      "dense_5 (Dense)              (None, 10)                650       \n",
      "=================================================================\n",
      "Total params: 23,626\n",
      "Trainable params: 23,626\n",
      "Non-trainable params: 0\n",
      "_________________________________________________________________\n"
     ]
    }
   ],
   "source": [
    "network_cnn_globalmaxpool.summary()"
   ]
  },
  {
   "cell_type": "markdown",
   "metadata": {},
   "source": [
    "### 1.4 对比模型3：带局部平均池化层的CNN\n",
    "\n",
    "### Conv2D + AveragePooling2D + Conv2D + AveragePooling2D + Flatten + Dense + Dense"
   ]
  },
  {
   "cell_type": "code",
   "execution_count": 11,
   "metadata": {},
   "outputs": [],
   "source": [
    "network_cnn_avgpool = models.Sequential()\n",
    "network_cnn_avgpool.add(layers.Conv2D(32,(3,3), activation = 'relu', input_shape = (28,28,1))) #输入：高度 x 宽度 x 颜色通道\n",
    "network_cnn_avgpool.add(layers.AveragePooling2D((2,2)))\n",
    "network_cnn_avgpool.add(layers.Conv2D(64,(3,3), activation = 'relu'))\n",
    "network_cnn_avgpool.add(layers.AveragePooling2D((2,2)))\n",
    "\n",
    "network_cnn_avgpool.add(layers.Flatten()) #将3D压缩为1D\n",
    "network_cnn_avgpool.add(layers.Dense(64, activation = 'relu')) #relu通常用于解决梯度消失问题\n",
    "network_cnn_avgpool.add(layers.Dense(10, activation = 'softmax'))"
   ]
  },
  {
   "cell_type": "code",
   "execution_count": 12,
   "metadata": {},
   "outputs": [],
   "source": [
    "network_cnn_avgpool.compile(optimizer = 'rmsprop', loss = 'categorical_crossentropy', metrics = ['accuracy'])"
   ]
  },
  {
   "cell_type": "code",
   "execution_count": 13,
   "metadata": {},
   "outputs": [
    {
     "name": "stdout",
     "output_type": "stream",
     "text": [
      "Model: \"sequential_3\"\n",
      "_________________________________________________________________\n",
      "Layer (type)                 Output Shape              Param #   \n",
      "=================================================================\n",
      "conv2d_4 (Conv2D)            (None, 26, 26, 32)        320       \n",
      "_________________________________________________________________\n",
      "average_pooling2d (AveragePo (None, 13, 13, 32)        0         \n",
      "_________________________________________________________________\n",
      "conv2d_5 (Conv2D)            (None, 11, 11, 64)        18496     \n",
      "_________________________________________________________________\n",
      "average_pooling2d_1 (Average (None, 5, 5, 64)          0         \n",
      "_________________________________________________________________\n",
      "flatten_2 (Flatten)          (None, 1600)              0         \n",
      "_________________________________________________________________\n",
      "dense_6 (Dense)              (None, 64)                102464    \n",
      "_________________________________________________________________\n",
      "dense_7 (Dense)              (None, 10)                650       \n",
      "=================================================================\n",
      "Total params: 121,930\n",
      "Trainable params: 121,930\n",
      "Non-trainable params: 0\n",
      "_________________________________________________________________\n"
     ]
    }
   ],
   "source": [
    "network_cnn_avgpool.summary()"
   ]
  },
  {
   "cell_type": "markdown",
   "metadata": {},
   "source": [
    "### 1.5 对比模型4：带全局平均池化层的CNN\n",
    "\n",
    "### Conv2D + GlobalAveragePooling2D + Conv2D + GlobalAveragePooling2D + Flatten + Dense + Dense"
   ]
  },
  {
   "cell_type": "code",
   "execution_count": 14,
   "metadata": {},
   "outputs": [],
   "source": [
    "network_cnn_globalavgpool = models.Sequential()\n",
    "network_cnn_globalavgpool.add(layers.Conv2D(32,(3,3), activation = 'relu', input_shape = (28,28,1))) #输入：高度 x 宽度 x 颜色通道\n",
    "network_cnn_globalavgpool.add(layers.AveragePooling2D((2,2)))\n",
    "network_cnn_globalavgpool.add(layers.Conv2D(64,(3,3), activation = 'relu'))\n",
    "#全局平均池化\n",
    "network_cnn_globalavgpool.add(layers.GlobalAveragePooling2D())\n",
    "\n",
    "#network_cnn_globalavgpool.add(layers.Flatten()) #将3D压缩为1D\n",
    "network_cnn_globalavgpool.add(layers.Dense(64, activation = 'relu')) #relu通常用于解决梯度消失问题\n",
    "network_cnn_globalavgpool.add(layers.Dense(10, activation = 'softmax'))"
   ]
  },
  {
   "cell_type": "code",
   "execution_count": 15,
   "metadata": {},
   "outputs": [],
   "source": [
    "network_cnn_globalavgpool.compile(optimizer = 'rmsprop', loss = 'categorical_crossentropy', metrics = ['accuracy'])"
   ]
  },
  {
   "cell_type": "code",
   "execution_count": 16,
   "metadata": {},
   "outputs": [
    {
     "name": "stdout",
     "output_type": "stream",
     "text": [
      "Model: \"sequential_4\"\n",
      "_________________________________________________________________\n",
      "Layer (type)                 Output Shape              Param #   \n",
      "=================================================================\n",
      "conv2d_6 (Conv2D)            (None, 26, 26, 32)        320       \n",
      "_________________________________________________________________\n",
      "average_pooling2d_2 (Average (None, 13, 13, 32)        0         \n",
      "_________________________________________________________________\n",
      "conv2d_7 (Conv2D)            (None, 11, 11, 64)        18496     \n",
      "_________________________________________________________________\n",
      "global_average_pooling2d (Gl (None, 64)                0         \n",
      "_________________________________________________________________\n",
      "dense_8 (Dense)              (None, 64)                4160      \n",
      "_________________________________________________________________\n",
      "dense_9 (Dense)              (None, 10)                650       \n",
      "=================================================================\n",
      "Total params: 23,626\n",
      "Trainable params: 23,626\n",
      "Non-trainable params: 0\n",
      "_________________________________________________________________\n"
     ]
    }
   ],
   "source": [
    "network_cnn_globalavgpool.summary()"
   ]
  },
  {
   "cell_type": "markdown",
   "metadata": {},
   "source": [
    "### 1.6 对比模型5：滑动步长增加情况下的CNN\n",
    "### Conv2D （strided convolution,即stride = （2,2）） + Conv2D（strided convolution） + Flatten + Dense + Dense"
   ]
  },
  {
   "cell_type": "code",
   "execution_count": 17,
   "metadata": {},
   "outputs": [],
   "source": [
    "network_cnn_strid2 = models.Sequential()\n",
    "#注意，卷积层的步进>1\n",
    "network_cnn_strid2.add(layers.Conv2D(32,(3,3),strides = (2,2),activation = 'relu', input_shape = (28,28,1))) #输入：高度 x 宽度 x 颜色通道\n",
    "network_cnn_strid2.add(layers.MaxPooling2D((2,2)))\n",
    "network_cnn_strid2.add(layers.Conv2D(64,(3,3),strides = (2,2), activation = 'relu'))\n",
    "network_cnn_strid2.add(layers.MaxPooling2D((2,2)))\n",
    "\n",
    "network_cnn_strid2.add(layers.Flatten()) #将3D压缩为1D\n",
    "network_cnn_strid2.add(layers.Dense(64, activation = 'relu')) #relu通常用于解决梯度消失问题\n",
    "network_cnn_strid2.add(layers.Dense(10, activation = 'softmax'))"
   ]
  },
  {
   "cell_type": "code",
   "execution_count": 18,
   "metadata": {},
   "outputs": [],
   "source": [
    "network_cnn_strid2.compile(optimizer = 'rmsprop', loss = 'categorical_crossentropy', metrics = ['accuracy'])"
   ]
  },
  {
   "cell_type": "code",
   "execution_count": 19,
   "metadata": {},
   "outputs": [
    {
     "name": "stdout",
     "output_type": "stream",
     "text": [
      "Model: \"sequential_5\"\n",
      "_________________________________________________________________\n",
      "Layer (type)                 Output Shape              Param #   \n",
      "=================================================================\n",
      "conv2d_8 (Conv2D)            (None, 13, 13, 32)        320       \n",
      "_________________________________________________________________\n",
      "max_pooling2d_3 (MaxPooling2 (None, 6, 6, 32)          0         \n",
      "_________________________________________________________________\n",
      "conv2d_9 (Conv2D)            (None, 2, 2, 64)          18496     \n",
      "_________________________________________________________________\n",
      "max_pooling2d_4 (MaxPooling2 (None, 1, 1, 64)          0         \n",
      "_________________________________________________________________\n",
      "flatten_3 (Flatten)          (None, 64)                0         \n",
      "_________________________________________________________________\n",
      "dense_10 (Dense)             (None, 64)                4160      \n",
      "_________________________________________________________________\n",
      "dense_11 (Dense)             (None, 10)                650       \n",
      "=================================================================\n",
      "Total params: 23,626\n",
      "Trainable params: 23,626\n",
      "Non-trainable params: 0\n",
      "_________________________________________________________________\n"
     ]
    }
   ],
   "source": [
    "network_cnn_strid2.summary()"
   ]
  },
  {
   "cell_type": "markdown",
   "metadata": {},
   "source": [
    "### 1.7 对比模型6：增加网络深度情况下的CNN"
   ]
  },
  {
   "cell_type": "code",
   "execution_count": 20,
   "metadata": {},
   "outputs": [],
   "source": [
    "network_cnn_deeper = models.Sequential()\n",
    "\n",
    "network_cnn_deeper.add(layers.Conv2D(32,(3,3), activation = 'relu', input_shape = (28,28,1))) #输入：高度 x 宽度 x 颜色通道\n",
    "network_cnn_deeper.add(layers.Conv2D(32,(3,3), activation = 'relu'))\n",
    "network_cnn_deeper.add(layers.MaxPooling2D((2,2)))\n",
    "network_cnn_deeper.add(layers.Conv2D(64,(3,3), activation = 'relu'))\n",
    "network_cnn_deeper.add(layers.Conv2D(64,(3,3), activation = 'relu'))\n",
    "network_cnn_deeper.add(layers.Conv2D(64,(3,3), activation = 'relu'))\n",
    "network_cnn_deeper.add(layers.MaxPooling2D((2,2)))\n",
    "\n",
    "network_cnn_deeper.add(layers.Flatten()) #将3D压缩为1D\n",
    "network_cnn_deeper.add(layers.Dense(64, activation = 'relu'))\n",
    "network_cnn_deeper.add(layers.Dense(10, activation = 'softmax'))"
   ]
  },
  {
   "cell_type": "code",
   "execution_count": 21,
   "metadata": {},
   "outputs": [],
   "source": [
    "network_cnn_deeper.compile(optimizer = 'rmsprop', loss = 'categorical_crossentropy', metrics = ['accuracy'])"
   ]
  },
  {
   "cell_type": "code",
   "execution_count": 22,
   "metadata": {},
   "outputs": [
    {
     "name": "stdout",
     "output_type": "stream",
     "text": [
      "Model: \"sequential_6\"\n",
      "_________________________________________________________________\n",
      "Layer (type)                 Output Shape              Param #   \n",
      "=================================================================\n",
      "conv2d_10 (Conv2D)           (None, 26, 26, 32)        320       \n",
      "_________________________________________________________________\n",
      "conv2d_11 (Conv2D)           (None, 24, 24, 32)        9248      \n",
      "_________________________________________________________________\n",
      "max_pooling2d_5 (MaxPooling2 (None, 12, 12, 32)        0         \n",
      "_________________________________________________________________\n",
      "conv2d_12 (Conv2D)           (None, 10, 10, 64)        18496     \n",
      "_________________________________________________________________\n",
      "conv2d_13 (Conv2D)           (None, 8, 8, 64)          36928     \n",
      "_________________________________________________________________\n",
      "conv2d_14 (Conv2D)           (None, 6, 6, 64)          36928     \n",
      "_________________________________________________________________\n",
      "max_pooling2d_6 (MaxPooling2 (None, 3, 3, 64)          0         \n",
      "_________________________________________________________________\n",
      "flatten_4 (Flatten)          (None, 576)               0         \n",
      "_________________________________________________________________\n",
      "dense_12 (Dense)             (None, 64)                36928     \n",
      "_________________________________________________________________\n",
      "dense_13 (Dense)             (None, 10)                650       \n",
      "=================================================================\n",
      "Total params: 139,498\n",
      "Trainable params: 139,498\n",
      "Non-trainable params: 0\n",
      "_________________________________________________________________\n"
     ]
    }
   ],
   "source": [
    "network_cnn_deeper.summary()"
   ]
  },
  {
   "cell_type": "markdown",
   "metadata": {},
   "source": [
    "### 1.8 对比模型7：无池化层"
   ]
  },
  {
   "cell_type": "code",
   "execution_count": 23,
   "metadata": {},
   "outputs": [],
   "source": [
    "network_cnn_nopool = models.Sequential()\n",
    "\n",
    "network_cnn_nopool.add(layers.Conv2D(32,(3,3), activation = 'relu', input_shape = (28,28,1))) #输入：高度 x 宽度 x 颜色通道\n",
    "network_cnn_nopool.add(layers.Conv2D(64,(3,3), activation = 'relu'))\n",
    "\n",
    "network_cnn_nopool.add(layers.Flatten()) #将3D压缩为1D\n",
    "network_cnn_nopool.add(layers.Dense(64, activation = 'relu'))\n",
    "network_cnn_nopool.add(layers.Dense(10, activation = 'softmax'))"
   ]
  },
  {
   "cell_type": "code",
   "execution_count": 24,
   "metadata": {},
   "outputs": [],
   "source": [
    "network_cnn_nopool.compile(optimizer = 'rmsprop', loss = 'categorical_crossentropy', metrics = ['accuracy'])"
   ]
  },
  {
   "cell_type": "code",
   "execution_count": 25,
   "metadata": {},
   "outputs": [
    {
     "name": "stdout",
     "output_type": "stream",
     "text": [
      "Model: \"sequential_7\"\n",
      "_________________________________________________________________\n",
      "Layer (type)                 Output Shape              Param #   \n",
      "=================================================================\n",
      "conv2d_15 (Conv2D)           (None, 26, 26, 32)        320       \n",
      "_________________________________________________________________\n",
      "conv2d_16 (Conv2D)           (None, 24, 24, 64)        18496     \n",
      "_________________________________________________________________\n",
      "flatten_5 (Flatten)          (None, 36864)             0         \n",
      "_________________________________________________________________\n",
      "dense_14 (Dense)             (None, 64)                2359360   \n",
      "_________________________________________________________________\n",
      "dense_15 (Dense)             (None, 10)                650       \n",
      "=================================================================\n",
      "Total params: 2,378,826\n",
      "Trainable params: 2,378,826\n",
      "Non-trainable params: 0\n",
      "_________________________________________________________________\n"
     ]
    }
   ],
   "source": [
    "network_cnn_nopool.summary()"
   ]
  },
  {
   "cell_type": "markdown",
   "metadata": {},
   "source": [
    "### 1.9 对比模型8：改变填充规则，由valid改为same"
   ]
  },
  {
   "cell_type": "code",
   "execution_count": 26,
   "metadata": {},
   "outputs": [],
   "source": [
    "network_cnn_padded = models.Sequential()\n",
    "network_cnn_padded.add(layers.Conv2D(32,(3,3), padding = 'same',activation = 'relu', input_shape = (28,28,1))) #输入：高度 x 宽度 x 颜色通道\n",
    "network_cnn_padded.add(layers.MaxPooling2D((2,2)))\n",
    "network_cnn_padded.add(layers.Conv2D(64,(3,3),padding = 'same', activation = 'relu'))\n",
    "network_cnn_padded.add(layers.MaxPooling2D((2,2)))\n",
    "\n",
    "network_cnn_padded.add(layers.Flatten()) #将3D压缩为1D\n",
    "network_cnn_padded.add(layers.Dense(64, activation = 'relu'))\n",
    "network_cnn_padded.add(layers.Dense(10, activation = 'softmax'))"
   ]
  },
  {
   "cell_type": "code",
   "execution_count": 27,
   "metadata": {},
   "outputs": [],
   "source": [
    "network_cnn_padded.compile(optimizer = 'rmsprop', loss = 'categorical_crossentropy', metrics = ['accuracy'])"
   ]
  },
  {
   "cell_type": "code",
   "execution_count": 28,
   "metadata": {},
   "outputs": [
    {
     "name": "stdout",
     "output_type": "stream",
     "text": [
      "Model: \"sequential_8\"\n",
      "_________________________________________________________________\n",
      "Layer (type)                 Output Shape              Param #   \n",
      "=================================================================\n",
      "conv2d_17 (Conv2D)           (None, 28, 28, 32)        320       \n",
      "_________________________________________________________________\n",
      "max_pooling2d_7 (MaxPooling2 (None, 14, 14, 32)        0         \n",
      "_________________________________________________________________\n",
      "conv2d_18 (Conv2D)           (None, 14, 14, 64)        18496     \n",
      "_________________________________________________________________\n",
      "max_pooling2d_8 (MaxPooling2 (None, 7, 7, 64)          0         \n",
      "_________________________________________________________________\n",
      "flatten_6 (Flatten)          (None, 3136)              0         \n",
      "_________________________________________________________________\n",
      "dense_16 (Dense)             (None, 64)                200768    \n",
      "_________________________________________________________________\n",
      "dense_17 (Dense)             (None, 10)                650       \n",
      "=================================================================\n",
      "Total params: 220,234\n",
      "Trainable params: 220,234\n",
      "Non-trainable params: 0\n",
      "_________________________________________________________________\n"
     ]
    }
   ],
   "source": [
    "network_cnn_padded.summary()"
   ]
  },
  {
   "cell_type": "markdown",
   "metadata": {},
   "source": [
    "### 目前，已经建立了9个模型：network_cnn_maxpool、network_mlp、network_cnn_globalmaxpool、network_cnn_avgpool、network_cnn_globalavgpool、network_cnn_strid2、network_cnn_deeper、network_cnn_nopool、network_cnn_padded"
   ]
  },
  {
   "cell_type": "markdown",
   "metadata": {},
   "source": [
    "## 2 数据加载与预处理"
   ]
  },
  {
   "cell_type": "code",
   "execution_count": 29,
   "metadata": {},
   "outputs": [],
   "source": [
    "from keras.datasets import mnist\n",
    "from keras.utils import to_categorical\n",
    "import os"
   ]
  },
  {
   "cell_type": "markdown",
   "metadata": {},
   "source": [
    "### 2.1 数据加载"
   ]
  },
  {
   "cell_type": "code",
   "execution_count": 30,
   "metadata": {},
   "outputs": [],
   "source": [
    "# -*- coding: utf-8 -*-\n",
    "(train_images, train_labels),(test_images, test_labels)=mnist.load_data(path = 'D:/2-AI读书学习笔记/99-dataset-lib/mnist/mnist.npz')"
   ]
  },
  {
   "cell_type": "code",
   "execution_count": 31,
   "metadata": {},
   "outputs": [
    {
     "data": {
      "text/plain": [
       "(60000, 28, 28)"
      ]
     },
     "execution_count": 31,
     "metadata": {},
     "output_type": "execute_result"
    }
   ],
   "source": [
    "#训练集\n",
    "train_images.shape"
   ]
  },
  {
   "cell_type": "code",
   "execution_count": 62,
   "metadata": {},
   "outputs": [
    {
     "data": {
      "image/png": "[encoded data removed]",
      "text/plain": [
       "<Figure size 432x288 with 1 Axes>"
      ]
     },
     "metadata": {
      "needs_background": "light"
     },
     "output_type": "display_data"
    }
   ],
   "source": [
    "#以图片形式展现\n",
    "import matplotlib.pyplot as plt\n",
    "\n",
    "plt.imshow(train_images[0],cmap = plt.get_cmap('gray'))\n",
    "plt.show()"
   ]
  },
  {
   "cell_type": "code",
   "execution_count": 33,
   "metadata": {},
   "outputs": [
    {
     "data": {
      "text/plain": [
       "5"
      ]
     },
     "execution_count": 33,
     "metadata": {},
     "output_type": "execute_result"
    }
   ],
   "source": [
    "train_labels[0]"
   ]
  },
  {
   "cell_type": "markdown",
   "metadata": {},
   "source": [
    "### 2.2 数据预处理"
   ]
  },
  {
   "cell_type": "markdown",
   "metadata": {},
   "source": [
    "#### 对样本数据进行归一化处理、整理输入张量形状"
   ]
  },
  {
   "cell_type": "code",
   "execution_count": 34,
   "metadata": {},
   "outputs": [],
   "source": [
    "#对输入数据进行向量化和归一化处理\n",
    "#输入shape转换为(图片张数、长度，宽度，通道数)\n",
    "preprocessed_train_images = train_images.reshape((60000,28,28,1))\n",
    "preprocessed_train_images = preprocessed_train_images.astype('float32')/255"
   ]
  },
  {
   "cell_type": "code",
   "execution_count": 35,
   "metadata": {},
   "outputs": [],
   "source": [
    "preprocessed_test_images = test_images.reshape((10000,28,28,1))\n",
    "preprocessed_test_images = preprocessed_test_images.astype('float32')/255"
   ]
  },
  {
   "cell_type": "markdown",
   "metadata": {},
   "source": [
    "#### 对标签数据进行独热编码处理"
   ]
  },
  {
   "cell_type": "code",
   "execution_count": 36,
   "metadata": {},
   "outputs": [],
   "source": [
    "#对输出进行one_hot处理\n",
    "preprocessed_train_labels = to_categorical(train_labels)\n",
    "preprocessed_test_labels = to_categorical(test_labels)"
   ]
  },
  {
   "cell_type": "code",
   "execution_count": 37,
   "metadata": {},
   "outputs": [
    {
     "data": {
      "text/plain": [
       "(60000, 28, 28, 1)"
      ]
     },
     "execution_count": 37,
     "metadata": {},
     "output_type": "execute_result"
    }
   ],
   "source": [
    "preprocessed_train_images.shape"
   ]
  },
  {
   "cell_type": "code",
   "execution_count": 38,
   "metadata": {},
   "outputs": [
    {
     "data": {
      "text/plain": [
       "(60000, 10)"
      ]
     },
     "execution_count": 38,
     "metadata": {},
     "output_type": "execute_result"
    }
   ],
   "source": [
    "preprocessed_train_labels.shape"
   ]
  },
  {
   "cell_type": "code",
   "execution_count": 39,
   "metadata": {},
   "outputs": [
    {
     "data": {
      "text/plain": [
       "array([0., 0., 0., 0., 0., 0., 0., 1., 0., 0.], dtype=float32)"
      ]
     },
     "execution_count": 39,
     "metadata": {},
     "output_type": "execute_result"
    }
   ],
   "source": [
    "preprocessed_test_labels[0]"
   ]
  },
  {
   "cell_type": "markdown",
   "metadata": {},
   "source": [
    "## 3 训练数据"
   ]
  },
  {
   "cell_type": "markdown",
   "metadata": {},
   "source": [
    "### 3.1 基准模型训练"
   ]
  },
  {
   "cell_type": "code",
   "execution_count": 40,
   "metadata": {},
   "outputs": [
    {
     "name": "stdout",
     "output_type": "stream",
     "text": [
      "Epoch 1/20\n",
      "938/938 [==============================] - 36s 38ms/step - loss: 0.1622 - accuracy: 0.9501\n",
      "Epoch 2/20\n",
      "938/938 [==============================] - 36s 38ms/step - loss: 0.0484 - accuracy: 0.9848\n",
      "Epoch 3/20\n",
      "938/938 [==============================] - 35s 37ms/step - loss: 0.0353 - accuracy: 0.9893\n",
      "Epoch 4/20\n",
      "938/938 [==============================] - 36s 38ms/step - loss: 0.0263 - accuracy: 0.9918\n",
      "Epoch 5/20\n",
      "938/938 [==============================] - 35s 37ms/step - loss: 0.0210 - accuracy: 0.9937\n",
      "Epoch 6/20\n",
      "938/938 [==============================] - 35s 37ms/step - loss: 0.0170 - accuracy: 0.9950\n",
      "Epoch 7/20\n",
      "938/938 [==============================] - 35s 37ms/step - loss: 0.0140 - accuracy: 0.9959\n",
      "Epoch 8/20\n",
      "938/938 [==============================] - 35s 38ms/step - loss: 0.0111 - accuracy: 0.9966\n",
      "Epoch 9/20\n",
      "938/938 [==============================] - 35s 37ms/step - loss: 0.0095 - accuracy: 0.9973\n",
      "Epoch 10/20\n",
      "938/938 [==============================] - 35s 38ms/step - loss: 0.0076 - accuracy: 0.9980\n",
      "Epoch 11/20\n",
      "938/938 [==============================] - 35s 37ms/step - loss: 0.0070 - accuracy: 0.9980\n",
      "Epoch 12/20\n",
      "938/938 [==============================] - 36s 38ms/step - loss: 0.0056 - accuracy: 0.9984\n",
      "Epoch 13/20\n",
      "938/938 [==============================] - 35s 38ms/step - loss: 0.0051 - accuracy: 0.9985\n",
      "Epoch 14/20\n",
      "938/938 [==============================] - 35s 37ms/step - loss: 0.0044 - accuracy: 0.9987\n",
      "Epoch 15/20\n",
      "938/938 [==============================] - 35s 37ms/step - loss: 0.0037 - accuracy: 0.9990\n",
      "Epoch 16/20\n",
      "938/938 [==============================] - 35s 37ms/step - loss: 0.0031 - accuracy: 0.9989\n",
      "Epoch 17/20\n",
      "938/938 [==============================] - 35s 37ms/step - loss: 0.0031 - accuracy: 0.9991\n",
      "Epoch 18/20\n",
      "938/938 [==============================] - 35s 37ms/step - loss: 0.0027 - accuracy: 0.9992\n",
      "Epoch 19/20\n",
      "938/938 [==============================] - 35s 37ms/step - loss: 0.0020 - accuracy: 0.9992\n",
      "Epoch 20/20\n",
      "938/938 [==============================] - 35s 37ms/step - loss: 0.0019 - accuracy: 0.9995\n",
      "running time : 706 s\n"
     ]
    }
   ],
   "source": [
    "import time\n",
    "\n",
    "start = time.time()\n",
    "\n",
    "his_cnn_maxpool = network_cnn_maxpool.fit(preprocessed_train_images, preprocessed_train_labels, epochs = 20,batch_size = 64)\n",
    "\n",
    "end = time.time()\n",
    "train_time_network_cnn_maxpool = end - start\n",
    "print('running time : %d s'%(end - start))"
   ]
  },
  {
   "cell_type": "markdown",
   "metadata": {},
   "source": [
    "#### 保存训练好的模型"
   ]
  },
  {
   "cell_type": "code",
   "execution_count": 41,
   "metadata": {},
   "outputs": [],
   "source": [
    "network_cnn_maxpool.save('D:/2-AI读书学习笔记/0-python深度学习/0-model_repo/ch5_1_network_cnn_maxpool.h5')"
   ]
  },
  {
   "cell_type": "markdown",
   "metadata": {},
   "source": [
    "#### 保存训练历史结果"
   ]
  },
  {
   "cell_type": "code",
   "execution_count": 42,
   "metadata": {},
   "outputs": [],
   "source": [
    "#保存模型训练历史记录\n",
    "import pickle\n",
    " \n",
    "with open('D:/2-AI读书学习笔记/0-python深度学习/0-model_repo/ch5_1_network_cnn_maxpool_trainHistoryDict.txt', 'wb') as file_pi:\n",
    "    pickle.dump(his_cnn_maxpool.history, file_pi)#将训练历史数据保存到指定文件中"
   ]
  },
  {
   "cell_type": "markdown",
   "metadata": {},
   "source": [
    "### 3.2 对照模型1训练"
   ]
  },
  {
   "cell_type": "code",
   "execution_count": 43,
   "metadata": {},
   "outputs": [
    {
     "name": "stdout",
     "output_type": "stream",
     "text": [
      "Epoch 1/20\n",
      "938/938 [==============================] - 2s 2ms/step - loss: 0.3288 - accuracy: 0.9084\n",
      "Epoch 2/20\n",
      "938/938 [==============================] - 2s 2ms/step - loss: 0.1703 - accuracy: 0.9503\n",
      "Epoch 3/20\n",
      "938/938 [==============================] - 2s 2ms/step - loss: 0.1277 - accuracy: 0.9625\n",
      "Epoch 4/20\n",
      "938/938 [==============================] - 2s 2ms/step - loss: 0.1038 - accuracy: 0.9690\n",
      "Epoch 5/20\n",
      "938/938 [==============================] - 2s 2ms/step - loss: 0.0884 - accuracy: 0.9739\n",
      "Epoch 6/20\n",
      "938/938 [==============================] - 2s 2ms/step - loss: 0.0773 - accuracy: 0.9778\n",
      "Epoch 7/20\n",
      "938/938 [==============================] - 2s 2ms/step - loss: 0.0687 - accuracy: 0.9800\n",
      "Epoch 8/20\n",
      "938/938 [==============================] - 2s 2ms/step - loss: 0.0615 - accuracy: 0.9819\n",
      "Epoch 9/20\n",
      "938/938 [==============================] - 2s 2ms/step - loss: 0.0560 - accuracy: 0.9839\n",
      "Epoch 10/20\n",
      "938/938 [==============================] - 2s 2ms/step - loss: 0.0508 - accuracy: 0.9857\n",
      "Epoch 11/20\n",
      "938/938 [==============================] - 2s 2ms/step - loss: 0.0465 - accuracy: 0.9866\n",
      "Epoch 12/20\n",
      "938/938 [==============================] - 2s 2ms/step - loss: 0.0430 - accuracy: 0.9877\n",
      "Epoch 13/20\n",
      "938/938 [==============================] - 2s 2ms/step - loss: 0.0395 - accuracy: 0.9890\n",
      "Epoch 14/20\n",
      "938/938 [==============================] - 2s 2ms/step - loss: 0.0361 - accuracy: 0.9897\n",
      "Epoch 15/20\n",
      "938/938 [==============================] - 2s 2ms/step - loss: 0.0339 - accuracy: 0.9906\n",
      "Epoch 16/20\n",
      "938/938 [==============================] - 2s 2ms/step - loss: 0.0315 - accuracy: 0.9912\n",
      "Epoch 17/20\n",
      "938/938 [==============================] - 2s 2ms/step - loss: 0.0290 - accuracy: 0.9920\n",
      "Epoch 18/20\n",
      "938/938 [==============================] - 2s 2ms/step - loss: 0.0271 - accuracy: 0.9920\n",
      "Epoch 19/20\n",
      "938/938 [==============================] - 2s 2ms/step - loss: 0.0254 - accuracy: 0.9931\n",
      "Epoch 20/20\n",
      "938/938 [==============================] - 2s 2ms/step - loss: 0.0230 - accuracy: 0.9937\n",
      "running time : 43 s\n"
     ]
    }
   ],
   "source": [
    "import time\n",
    "\n",
    "start = time.time()\n",
    "\n",
    "his_mlp = network_mlp.fit(preprocessed_train_images, preprocessed_train_labels, epochs = 20,batch_size = 64)\n",
    "\n",
    "\n",
    "end = time.time()\n",
    "train_time_network_mlp = end - start\n",
    "print('running time : %d s'%(end - start))"
   ]
  },
  {
   "cell_type": "code",
   "execution_count": 44,
   "metadata": {},
   "outputs": [],
   "source": [
    "network_mlp.save('D:/2-AI读书学习笔记/0-python深度学习/0-model_repo/ch5_1_network_mlp.h5')\n",
    "\n",
    "#保存模型训练历史记录\n",
    "import pickle\n",
    " \n",
    "with open('D:/2-AI读书学习笔记/0-python深度学习/0-model_repo/ch5_1_network_mlp_trainHistoryDict.txt', 'wb') as file_pi:\n",
    "    pickle.dump(his_mlp.history, file_pi)#将训练历史数据保存到指定文件中"
   ]
  },
  {
   "cell_type": "markdown",
   "metadata": {},
   "source": [
    "### 3.3 对照模型2训练"
   ]
  },
  {
   "cell_type": "code",
   "execution_count": 40,
   "metadata": {},
   "outputs": [
    {
     "name": "stdout",
     "output_type": "stream",
     "text": [
      "Epoch 1/20\n",
      "938/938 [==============================] - 18s 19ms/step - loss: 0.6370 - accuracy: 0.8153\n",
      "Epoch 2/20\n",
      "938/938 [==============================] - 22s 24ms/step - loss: 0.1954 - accuracy: 0.9389\n",
      "Epoch 3/20\n",
      "938/938 [==============================] - 22s 23ms/step - loss: 0.1419 - accuracy: 0.9548\n",
      "Epoch 4/20\n",
      "938/938 [==============================] - 22s 23ms/step - loss: 0.1135 - accuracy: 0.9638\n",
      "Epoch 5/20\n",
      "938/938 [==============================] - 22s 24ms/step - loss: 0.0946 - accuracy: 0.9698\n",
      "Epoch 6/20\n",
      "938/938 [==============================] - 22s 24ms/step - loss: 0.0809 - accuracy: 0.9742\n",
      "Epoch 7/20\n",
      "938/938 [==============================] - 22s 23ms/step - loss: 0.0722 - accuracy: 0.9770\n",
      "Epoch 8/20\n",
      "938/938 [==============================] - 23s 24ms/step - loss: 0.0643 - accuracy: 0.9796\n",
      "Epoch 9/20\n",
      "938/938 [==============================] - 22s 23ms/step - loss: 0.0580 - accuracy: 0.9821\n",
      "Epoch 10/20\n",
      "938/938 [==============================] - 22s 23ms/step - loss: 0.0534 - accuracy: 0.9829\n",
      "Epoch 11/20\n",
      "938/938 [==============================] - 21s 23ms/step - loss: 0.0496 - accuracy: 0.9842\n",
      "Epoch 12/20\n",
      "938/938 [==============================] - 22s 24ms/step - loss: 0.0456 - accuracy: 0.9857\n",
      "Epoch 13/20\n",
      "938/938 [==============================] - 22s 24ms/step - loss: 0.0422 - accuracy: 0.9864\n",
      "Epoch 14/20\n",
      "938/938 [==============================] - 22s 23ms/step - loss: 0.0396 - accuracy: 0.9874\n",
      "Epoch 15/20\n",
      "938/938 [==============================] - 23s 24ms/step - loss: 0.0368 - accuracy: 0.9878\n",
      "Epoch 16/20\n",
      "938/938 [==============================] - 22s 23ms/step - loss: 0.0343 - accuracy: 0.9884\n",
      "Epoch 17/20\n",
      "938/938 [==============================] - 21s 23ms/step - loss: 0.0314 - accuracy: 0.9897\n",
      "Epoch 18/20\n",
      "938/938 [==============================] - 22s 23ms/step - loss: 0.0298 - accuracy: 0.9903\n",
      "Epoch 19/20\n",
      "938/938 [==============================] - 22s 23ms/step - loss: 0.0288 - accuracy: 0.9905\n",
      "Epoch 20/20\n",
      "938/938 [==============================] - 22s 23ms/step - loss: 0.0265 - accuracy: 0.9915\n",
      "running time : 435 s\n"
     ]
    }
   ],
   "source": [
    "import time\n",
    "\n",
    "start = time.time()\n",
    "\n",
    "his_cnn_globalmaxpool = network_cnn_globalmaxpool.fit(preprocessed_train_images, preprocessed_train_labels, epochs = 20,batch_size = 64)\n",
    "\n",
    "end = time.time()\n",
    "train_time_network_cnn_globalmaxpool = end - start\n",
    "print('running time : %d s'%(end - start))"
   ]
  },
  {
   "cell_type": "code",
   "execution_count": 46,
   "metadata": {},
   "outputs": [],
   "source": [
    "network_cnn_globalmaxpool.save('D:/2-AI读书学习笔记/0-python深度学习/0-model_repo/ch5_1_network_cnn_globalmaxpool.h5')\n",
    "\n",
    "#保存模型训练历史记录\n",
    "import pickle\n",
    " \n",
    "with open('D:/2-AI读书学习笔记/0-python深度学习/0-model_repo/ch5_1_network_cnn_globalmaxpool_trainHistoryDict.txt', 'wb') as file_pi:\n",
    "    pickle.dump(his_cnn_globalmaxpool.history, file_pi)#将训练历史数据保存到指定文件中"
   ]
  },
  {
   "cell_type": "markdown",
   "metadata": {},
   "source": [
    "### 3.4 对照模型3训练"
   ]
  },
  {
   "cell_type": "code",
   "execution_count": 47,
   "metadata": {},
   "outputs": [
    {
     "name": "stdout",
     "output_type": "stream",
     "text": [
      "Epoch 1/20\n",
      "938/938 [==============================] - 35s 37ms/step - loss: 0.2161 - accuracy: 0.9360\n",
      "Epoch 2/20\n",
      "938/938 [==============================] - 35s 37ms/step - loss: 0.0660 - accuracy: 0.9804\n",
      "Epoch 3/20\n",
      "938/938 [==============================] - 35s 37ms/step - loss: 0.0465 - accuracy: 0.9860\n",
      "Epoch 4/20\n",
      "938/938 [==============================] - 35s 37ms/step - loss: 0.0357 - accuracy: 0.9893\n",
      "Epoch 5/20\n",
      "938/938 [==============================] - 35s 37ms/step - loss: 0.0301 - accuracy: 0.9908\n",
      "Epoch 6/20\n",
      "938/938 [==============================] - 34s 37ms/step - loss: 0.0258 - accuracy: 0.9919\n",
      "Epoch 7/20\n",
      "938/938 [==============================] - 35s 38ms/step - loss: 0.0218 - accuracy: 0.9931\n",
      "Epoch 8/20\n",
      "938/938 [==============================] - 35s 37ms/step - loss: 0.0193 - accuracy: 0.9941\n",
      "Epoch 9/20\n",
      "938/938 [==============================] - 35s 38ms/step - loss: 0.0162 - accuracy: 0.9952\n",
      "Epoch 10/20\n",
      "938/938 [==============================] - 35s 38ms/step - loss: 0.0151 - accuracy: 0.9955\n",
      "Epoch 11/20\n",
      "938/938 [==============================] - 35s 37ms/step - loss: 0.0127 - accuracy: 0.9963\n",
      "Epoch 12/20\n",
      "938/938 [==============================] - 36s 38ms/step - loss: 0.0120 - accuracy: 0.9963\n",
      "Epoch 13/20\n",
      "938/938 [==============================] - 37s 40ms/step - loss: 0.0103 - accuracy: 0.9967\n",
      "Epoch 14/20\n",
      "938/938 [==============================] - 36s 38ms/step - loss: 0.0088 - accuracy: 0.9971\n",
      "Epoch 15/20\n",
      "938/938 [==============================] - 36s 38ms/step - loss: 0.0086 - accuracy: 0.9977\n",
      "Epoch 16/20\n",
      "938/938 [==============================] - 36s 38ms/step - loss: 0.0077 - accuracy: 0.9979\n",
      "Epoch 17/20\n",
      "938/938 [==============================] - 35s 38ms/step - loss: 0.0067 - accuracy: 0.9980\n",
      "Epoch 18/20\n",
      "938/938 [==============================] - 35s 37ms/step - loss: 0.0066 - accuracy: 0.9984\n",
      "Epoch 19/20\n",
      "938/938 [==============================] - 35s 38ms/step - loss: 0.0055 - accuracy: 0.9984\n",
      "Epoch 20/20\n",
      "938/938 [==============================] - 35s 38ms/step - loss: 0.0057 - accuracy: 0.9983\n",
      "running time : 707 s\n"
     ]
    }
   ],
   "source": [
    "import time\n",
    "\n",
    "start = time.time()\n",
    "\n",
    "his_cnn_avgpool = network_cnn_avgpool.fit(preprocessed_train_images, preprocessed_train_labels, epochs = 20,batch_size = 64)\n",
    "\n",
    "end = time.time()\n",
    "train_time_network_cnn_avgpool = end - start\n",
    "print('running time : %d s'%(end - start))"
   ]
  },
  {
   "cell_type": "code",
   "execution_count": 48,
   "metadata": {},
   "outputs": [],
   "source": [
    "network_cnn_avgpool.save('D:/2-AI读书学习笔记/0-python深度学习/0-model_repo/ch5_1_network_cnn_avgpool.h5')\n",
    "\n",
    "#保存模型训练历史记录\n",
    "import pickle\n",
    " \n",
    "with open('D:/2-AI读书学习笔记/0-python深度学习/0-model_repo/ch5_1_network_cnn_avgpool_trainHistoryDict.txt', 'wb') as file_pi:\n",
    "    pickle.dump(his_cnn_avgpool.history, file_pi)#将训练历史数据保存到指定文件中"
   ]
  },
  {
   "cell_type": "markdown",
   "metadata": {},
   "source": [
    "### 3.5 对照模型4训练"
   ]
  },
  {
   "cell_type": "code",
   "execution_count": 49,
   "metadata": {},
   "outputs": [
    {
     "name": "stdout",
     "output_type": "stream",
     "text": [
      "Epoch 1/20\n",
      "938/938 [==============================] - 34s 36ms/step - loss: 1.4588 - accuracy: 0.4976\n",
      "Epoch 2/20\n",
      "938/938 [==============================] - 34s 36ms/step - loss: 0.7282 - accuracy: 0.7756\n",
      "Epoch 3/20\n",
      "938/938 [==============================] - 34s 36ms/step - loss: 0.5124 - accuracy: 0.8433\n",
      "Epoch 4/20\n",
      "938/938 [==============================] - 34s 36ms/step - loss: 0.4029 - accuracy: 0.8760\n",
      "Epoch 5/20\n",
      "938/938 [==============================] - 34s 36ms/step - loss: 0.3390 - accuracy: 0.8957\n",
      "Epoch 6/20\n",
      "938/938 [==============================] - 34s 36ms/step - loss: 0.2942 - accuracy: 0.9096\n",
      "Epoch 7/20\n",
      "938/938 [==============================] - 34s 36ms/step - loss: 0.2605 - accuracy: 0.9198\n",
      "Epoch 8/20\n",
      "938/938 [==============================] - 34s 36ms/step - loss: 0.2357 - accuracy: 0.9274\n",
      "Epoch 9/20\n",
      "938/938 [==============================] - 34s 36ms/step - loss: 0.2143 - accuracy: 0.9345\n",
      "Epoch 10/20\n",
      "938/938 [==============================] - 34s 36ms/step - loss: 0.1957 - accuracy: 0.9406\n",
      "Epoch 11/20\n",
      "938/938 [==============================] - 34s 36ms/step - loss: 0.1785 - accuracy: 0.9452\n",
      "Epoch 12/20\n",
      "938/938 [==============================] - 34s 36ms/step - loss: 0.1650 - accuracy: 0.9499\n",
      "Epoch 13/20\n",
      "938/938 [==============================] - 34s 36ms/step - loss: 0.1531 - accuracy: 0.9535\n",
      "Epoch 14/20\n",
      "938/938 [==============================] - 34s 36ms/step - loss: 0.1430 - accuracy: 0.9558\n",
      "Epoch 15/20\n",
      "938/938 [==============================] - 34s 36ms/step - loss: 0.1354 - accuracy: 0.9581\n",
      "Epoch 16/20\n",
      "938/938 [==============================] - 34s 36ms/step - loss: 0.1254 - accuracy: 0.9613\n",
      "Epoch 17/20\n",
      "938/938 [==============================] - 34s 36ms/step - loss: 0.1205 - accuracy: 0.9631\n",
      "Epoch 18/20\n",
      "938/938 [==============================] - 34s 36ms/step - loss: 0.1135 - accuracy: 0.9655\n",
      "Epoch 19/20\n",
      "938/938 [==============================] - 34s 36ms/step - loss: 0.1081 - accuracy: 0.9664\n",
      "Epoch 20/20\n",
      "938/938 [==============================] - 34s 36ms/step - loss: 0.1034 - accuracy: 0.9681\n",
      "running time : 675 s\n"
     ]
    }
   ],
   "source": [
    "import time\n",
    "\n",
    "start = time.time()\n",
    "\n",
    "his_cnn_globalavgpool = network_cnn_globalavgpool.fit(preprocessed_train_images, preprocessed_train_labels, epochs = 20,batch_size = 64)\n",
    "\n",
    "end = time.time()\n",
    "train_time_network_cnn_globalavgpool = end - start\n",
    "print('running time : %d s'%(end - start))"
   ]
  },
  {
   "cell_type": "code",
   "execution_count": 50,
   "metadata": {},
   "outputs": [],
   "source": [
    "network_cnn_globalavgpool.save('D:/2-AI读书学习笔记/0-python深度学习/0-model_repo/ch5_1_network_cnn_globalavgpool.h5')\n",
    "\n",
    "#保存模型训练历史记录\n",
    "import pickle\n",
    " \n",
    "with open('D:/2-AI读书学习笔记/0-python深度学习/0-model_repo/ch5_1_network_cnn_globalavgpool_trainHistoryDict.txt', 'wb') as file_pi:\n",
    "    pickle.dump(his_cnn_globalavgpool.history, file_pi)#将训练历史数据保存到指定文件中"
   ]
  },
  {
   "cell_type": "markdown",
   "metadata": {},
   "source": [
    "### 3.6 对照模型5训练"
   ]
  },
  {
   "cell_type": "code",
   "execution_count": 51,
   "metadata": {},
   "outputs": [
    {
     "name": "stdout",
     "output_type": "stream",
     "text": [
      "Epoch 1/20\n",
      "938/938 [==============================] - 9s 10ms/step - loss: 0.4799 - accuracy: 0.8590\n",
      "Epoch 2/20\n",
      "938/938 [==============================] - 9s 10ms/step - loss: 0.1763 - accuracy: 0.9464\n",
      "Epoch 3/20\n",
      "938/938 [==============================] - 9s 10ms/step - loss: 0.1310 - accuracy: 0.9592\n",
      "Epoch 4/20\n",
      "938/938 [==============================] - 9s 10ms/step - loss: 0.1066 - accuracy: 0.9669\n",
      "Epoch 5/20\n",
      "938/938 [==============================] - 9s 10ms/step - loss: 0.0892 - accuracy: 0.9725\n",
      "Epoch 6/20\n",
      "938/938 [==============================] - 9s 10ms/step - loss: 0.0783 - accuracy: 0.9755\n",
      "Epoch 7/20\n",
      "938/938 [==============================] - 9s 10ms/step - loss: 0.0684 - accuracy: 0.9784\n",
      "Epoch 8/20\n",
      "938/938 [==============================] - 9s 10ms/step - loss: 0.0603 - accuracy: 0.9813\n",
      "Epoch 9/20\n",
      "938/938 [==============================] - 9s 10ms/step - loss: 0.0555 - accuracy: 0.9827\n",
      "Epoch 10/20\n",
      "938/938 [==============================] - 9s 10ms/step - loss: 0.0497 - accuracy: 0.9843\n",
      "Epoch 11/20\n",
      "938/938 [==============================] - 9s 10ms/step - loss: 0.0451 - accuracy: 0.9857\n",
      "Epoch 12/20\n",
      "938/938 [==============================] - 9s 10ms/step - loss: 0.0407 - accuracy: 0.9873\n",
      "Epoch 13/20\n",
      "938/938 [==============================] - 9s 10ms/step - loss: 0.0381 - accuracy: 0.9882\n",
      "Epoch 14/20\n",
      "938/938 [==============================] - 9s 10ms/step - loss: 0.0355 - accuracy: 0.9890\n",
      "Epoch 15/20\n",
      "938/938 [==============================] - 9s 10ms/step - loss: 0.0320 - accuracy: 0.9900\n",
      "Epoch 16/20\n",
      "938/938 [==============================] - 9s 10ms/step - loss: 0.0306 - accuracy: 0.9903\n",
      "Epoch 17/20\n",
      "938/938 [==============================] - 9s 10ms/step - loss: 0.0278 - accuracy: 0.9914\n",
      "Epoch 18/20\n",
      "938/938 [==============================] - 9s 10ms/step - loss: 0.0254 - accuracy: 0.9919\n",
      "Epoch 19/20\n",
      "938/938 [==============================] - 9s 9ms/step - loss: 0.0239 - accuracy: 0.9920\n",
      "Epoch 20/20\n",
      "938/938 [==============================] - 9s 10ms/step - loss: 0.0212 - accuracy: 0.9931\n",
      "running time : 181 s\n"
     ]
    }
   ],
   "source": [
    "import time\n",
    "\n",
    "start = time.time()\n",
    "\n",
    "his_cnn_strid2 = network_cnn_strid2.fit(preprocessed_train_images, preprocessed_train_labels, epochs = 20,batch_size = 64)\n",
    "\n",
    "end = time.time()\n",
    "train_time_network_cnn_strid2 = end - start\n",
    "print('running time : %d s'%(end - start))"
   ]
  },
  {
   "cell_type": "code",
   "execution_count": 52,
   "metadata": {},
   "outputs": [],
   "source": [
    "network_cnn_strid2.save('D:/2-AI读书学习笔记/0-python深度学习/0-model_repo/ch5_1_network_cnn_strid2.h5')\n",
    "\n",
    "#保存模型训练历史记录\n",
    "import pickle\n",
    " \n",
    "with open('D:/2-AI读书学习笔记/0-python深度学习/0-model_repo/ch5_1_network_cnn_strid2_trainHistoryDict.txt', 'wb') as file_pi:\n",
    "    pickle.dump(his_cnn_strid2.history, file_pi)#将训练历史数据保存到指定文件中"
   ]
  },
  {
   "cell_type": "markdown",
   "metadata": {},
   "source": [
    "### 3.7 对照模型6训练"
   ]
  },
  {
   "cell_type": "code",
   "execution_count": 53,
   "metadata": {},
   "outputs": [
    {
     "name": "stdout",
     "output_type": "stream",
     "text": [
      "Epoch 1/20\n",
      "938/938 [==============================] - 99s 105ms/step - loss: 0.1543 - accuracy: 0.9516\n",
      "Epoch 2/20\n",
      "938/938 [==============================] - 98s 104ms/step - loss: 0.0447 - accuracy: 0.9865\n",
      "Epoch 3/20\n",
      "938/938 [==============================] - 98s 104ms/step - loss: 0.0327 - accuracy: 0.9898\n",
      "Epoch 4/20\n",
      "938/938 [==============================] - 97s 104ms/step - loss: 0.0256 - accuracy: 0.9926\n",
      "Epoch 5/20\n",
      "938/938 [==============================] - 99s 105ms/step - loss: 0.0202 - accuracy: 0.9939\n",
      "Epoch 6/20\n",
      "938/938 [==============================] - 98s 104ms/step - loss: 0.0174 - accuracy: 0.9947\n",
      "Epoch 7/20\n",
      "938/938 [==============================] - 99s 105ms/step - loss: 0.0144 - accuracy: 0.9955\n",
      "Epoch 8/20\n",
      "938/938 [==============================] - 99s 105ms/step - loss: 0.0129 - accuracy: 0.9960\n",
      "Epoch 9/20\n",
      "938/938 [==============================] - 97s 103ms/step - loss: 0.0114 - accuracy: 0.9969\n",
      "Epoch 10/20\n",
      "938/938 [==============================] - 98s 104ms/step - loss: 0.0096 - accuracy: 0.9972\n",
      "Epoch 11/20\n",
      "938/938 [==============================] - 98s 105ms/step - loss: 0.0091 - accuracy: 0.9974\n",
      "Epoch 12/20\n",
      "938/938 [==============================] - 98s 104ms/step - loss: 0.0081 - accuracy: 0.9978\n",
      "Epoch 13/20\n",
      "938/938 [==============================] - 97s 104ms/step - loss: 0.0073 - accuracy: 0.9981\n",
      "Epoch 14/20\n",
      "938/938 [==============================] - 99s 106ms/step - loss: 0.0082 - accuracy: 0.9982\n",
      "Epoch 15/20\n",
      "938/938 [==============================] - 98s 105ms/step - loss: 0.0075 - accuracy: 0.9980\n",
      "Epoch 16/20\n",
      "938/938 [==============================] - 98s 105ms/step - loss: 0.0072 - accuracy: 0.9981\n",
      "Epoch 17/20\n",
      "938/938 [==============================] - 98s 105ms/step - loss: 0.0062 - accuracy: 0.9985\n",
      "Epoch 18/20\n",
      "938/938 [==============================] - 98s 104ms/step - loss: 0.0062 - accuracy: 0.9985\n",
      "Epoch 19/20\n",
      "938/938 [==============================] - 98s 105ms/step - loss: 0.0057 - accuracy: 0.9986\n",
      "Epoch 20/20\n",
      "938/938 [==============================] - 98s 104ms/step - loss: 0.0059 - accuracy: 0.9985\n",
      "running time : 1964 s\n"
     ]
    }
   ],
   "source": [
    "import time\n",
    "\n",
    "start = time.time()\n",
    "\n",
    "his_cnn_deeper = network_cnn_deeper.fit(preprocessed_train_images, preprocessed_train_labels, epochs = 20,batch_size = 64)\n",
    "\n",
    "end = time.time()\n",
    "train_time_network_cnn_deeper = end - start\n",
    "print('running time : %d s'%(end - start))"
   ]
  },
  {
   "cell_type": "code",
   "execution_count": 54,
   "metadata": {},
   "outputs": [],
   "source": [
    "network_cnn_deeper.save('D:/2-AI读书学习笔记/0-python深度学习/0-model_repo/ch5_1_network_cnn_deeper.h5')\n",
    "\n",
    "#保存模型训练历史记录\n",
    "import pickle\n",
    " \n",
    "with open('D:/2-AI读书学习笔记/0-python深度学习/0-model_repo/ch5_1_network_cnn_deeper_trainHistoryDict.txt', 'wb') as file_pi:\n",
    "    pickle.dump(his_cnn_deeper.history, file_pi)#将训练历史数据保存到指定文件中"
   ]
  },
  {
   "cell_type": "markdown",
   "metadata": {},
   "source": [
    "### 3.8 对照模型7训练"
   ]
  },
  {
   "cell_type": "code",
   "execution_count": 55,
   "metadata": {},
   "outputs": [
    {
     "name": "stdout",
     "output_type": "stream",
     "text": [
      "Epoch 1/20\n",
      "938/938 [==============================] - 82s 87ms/step - loss: 0.1278 - accuracy: 0.9608\n",
      "Epoch 2/20\n",
      "938/938 [==============================] - 69s 73ms/step - loss: 0.0394 - accuracy: 0.9884\n",
      "Epoch 3/20\n",
      "938/938 [==============================] - 68s 73ms/step - loss: 0.0247 - accuracy: 0.9926\n",
      "Epoch 4/20\n",
      "938/938 [==============================] - 68s 73ms/step - loss: 0.0163 - accuracy: 0.9952\n",
      "Epoch 5/20\n",
      "938/938 [==============================] - 70s 74ms/step - loss: 0.0109 - accuracy: 0.9969\n",
      "Epoch 6/20\n",
      "938/938 [==============================] - 73s 78ms/step - loss: 0.0077 - accuracy: 0.9978\n",
      "Epoch 7/20\n",
      "938/938 [==============================] - 69s 73ms/step - loss: 0.0050 - accuracy: 0.9987\n",
      "Epoch 8/20\n",
      "938/938 [==============================] - 73s 78ms/step - loss: 0.0035 - accuracy: 0.9990\n",
      "Epoch 9/20\n",
      "938/938 [==============================] - 73s 78ms/step - loss: 0.0026 - accuracy: 0.9994\n",
      "Epoch 10/20\n",
      "938/938 [==============================] - 76s 81ms/step - loss: 0.0019 - accuracy: 0.9995\n",
      "Epoch 11/20\n",
      "938/938 [==============================] - 74s 79ms/step - loss: 0.0014 - accuracy: 0.9996\n",
      "Epoch 12/20\n",
      "938/938 [==============================] - 72s 76ms/step - loss: 6.6492e-04 - accuracy: 0.9998\n",
      "Epoch 13/20\n",
      "938/938 [==============================] - 73s 78ms/step - loss: 4.9002e-04 - accuracy: 0.9999\n",
      "Epoch 14/20\n",
      "938/938 [==============================] - 73s 78ms/step - loss: 5.8844e-04 - accuracy: 0.9999\n",
      "Epoch 15/20\n",
      "938/938 [==============================] - 73s 78ms/step - loss: 3.9227e-04 - accuracy: 0.9999\n",
      "Epoch 16/20\n",
      "938/938 [==============================] - 73s 78ms/step - loss: 4.3161e-04 - accuracy: 0.9998\n",
      "Epoch 17/20\n",
      "938/938 [==============================] - 74s 78ms/step - loss: 3.8597e-04 - accuracy: 0.9999\n",
      "Epoch 18/20\n",
      "938/938 [==============================] - 74s 79ms/step - loss: 4.5067e-04 - accuracy: 0.9999\n",
      "Epoch 19/20\n",
      "938/938 [==============================] - 72s 77ms/step - loss: 3.5799e-04 - accuracy: 0.9999\n",
      "Epoch 20/20\n",
      "938/938 [==============================] - 72s 77ms/step - loss: 1.5361e-04 - accuracy: 0.9999\n",
      "running time : 1452 s\n"
     ]
    }
   ],
   "source": [
    "import time\n",
    "\n",
    "start = time.time()\n",
    "\n",
    "his_cnn_nopool = network_cnn_nopool.fit(preprocessed_train_images, preprocessed_train_labels, epochs = 20,batch_size = 64)\n",
    "\n",
    "end = time.time()\n",
    "train_time_network_cnn_nopool = end - start\n",
    "print('running time : %d s'%(end - start))"
   ]
  },
  {
   "cell_type": "code",
   "execution_count": 56,
   "metadata": {},
   "outputs": [],
   "source": [
    "network_cnn_nopool.save('D:/2-AI读书学习笔记/0-python深度学习/0-model_repo/ch5_1_network_cnn_nopool.h5')\n",
    "\n",
    "#保存模型训练历史记录\n",
    "import pickle\n",
    " \n",
    "with open('D:/2-AI读书学习笔记/0-python深度学习/0-model_repo/ch5_1_network_cnn_nopool_trainHistoryDict.txt', 'wb') as file_pi:\n",
    "    pickle.dump(his_cnn_nopool.history, file_pi)#将训练历史数据保存到指定文件中"
   ]
  },
  {
   "cell_type": "markdown",
   "metadata": {},
   "source": [
    "### 3.9 对照模型8训练"
   ]
  },
  {
   "cell_type": "code",
   "execution_count": 57,
   "metadata": {},
   "outputs": [
    {
     "name": "stdout",
     "output_type": "stream",
     "text": [
      "Epoch 1/20\n",
      "938/938 [==============================] - 31s 33ms/step - loss: 0.1593 - accuracy: 0.9505\n",
      "Epoch 2/20\n",
      "938/938 [==============================] - 31s 33ms/step - loss: 0.0474 - accuracy: 0.9856\n",
      "Epoch 3/20\n",
      "938/938 [==============================] - 32s 34ms/step - loss: 0.0322 - accuracy: 0.9901\n",
      "Epoch 4/20\n",
      "938/938 [==============================] - 32s 34ms/step - loss: 0.0246 - accuracy: 0.9920\n",
      "Epoch 5/20\n",
      "938/938 [==============================] - 31s 33ms/step - loss: 0.0198 - accuracy: 0.9940\n",
      "Epoch 6/20\n",
      "938/938 [==============================] - 31s 33ms/step - loss: 0.0154 - accuracy: 0.9952\n",
      "Epoch 7/20\n",
      "938/938 [==============================] - 31s 33ms/step - loss: 0.0127 - accuracy: 0.9962\n",
      "Epoch 8/20\n",
      "938/938 [==============================] - 31s 33ms/step - loss: 0.0095 - accuracy: 0.9971\n",
      "Epoch 9/20\n",
      "938/938 [==============================] - 32s 34ms/step - loss: 0.0076 - accuracy: 0.9979\n",
      "Epoch 10/20\n",
      "938/938 [==============================] - 32s 34ms/step - loss: 0.0067 - accuracy: 0.9980\n",
      "Epoch 11/20\n",
      "938/938 [==============================] - 31s 33ms/step - loss: 0.0054 - accuracy: 0.9985\n",
      "Epoch 12/20\n",
      "938/938 [==============================] - 32s 34ms/step - loss: 0.0045 - accuracy: 0.9988\n",
      "Epoch 13/20\n",
      "938/938 [==============================] - 33s 35ms/step - loss: 0.0040 - accuracy: 0.9990\n",
      "Epoch 14/20\n",
      "938/938 [==============================] - 32s 34ms/step - loss: 0.0031 - accuracy: 0.9991\n",
      "Epoch 15/20\n",
      "938/938 [==============================] - 31s 34ms/step - loss: 0.0025 - accuracy: 0.9991\n",
      "Epoch 16/20\n",
      "938/938 [==============================] - 31s 33ms/step - loss: 0.0023 - accuracy: 0.9993\n",
      "Epoch 17/20\n",
      "938/938 [==============================] - 31s 33ms/step - loss: 0.0025 - accuracy: 0.9993\n",
      "Epoch 18/20\n",
      "938/938 [==============================] - 31s 33ms/step - loss: 0.0022 - accuracy: 0.9994\n",
      "Epoch 19/20\n",
      "938/938 [==============================] - 32s 34ms/step - loss: 0.0015 - accuracy: 0.9994\n",
      "Epoch 20/20\n",
      "938/938 [==============================] - 31s 34ms/step - loss: 0.0014 - accuracy: 0.9995\n",
      "running time : 632 s\n"
     ]
    }
   ],
   "source": [
    "import time\n",
    "\n",
    "start = time.time()\n",
    "\n",
    "his_cnn_padded = network_cnn_padded.fit(preprocessed_train_images, preprocessed_train_labels, epochs = 20,batch_size = 64)\n",
    "\n",
    "end = time.time()\n",
    "train_time_network_cnn_padded = end - start\n",
    "print('running time : %d s'%(end - start))"
   ]
  },
  {
   "cell_type": "code",
   "execution_count": 58,
   "metadata": {},
   "outputs": [],
   "source": [
    "network_cnn_padded.save('D:/2-AI读书学习笔记/0-python深度学习/0-model_repo/ch5_1_network_cnn_padded.h5')\n",
    "\n",
    "#保存模型训练历史记录\n",
    "import pickle\n",
    " \n",
    "with open('D:/2-AI读书学习笔记/0-python深度学习/0-model_repo/ch5_1_network_cnn_padded_trainHistoryDict.txt', 'wb') as file_pi:\n",
    "    pickle.dump(his_cnn_padded.history, file_pi)#将训练历史数据保存到指定文件中"
   ]
  },
  {
   "cell_type": "markdown",
   "metadata": {},
   "source": [
    "## 4 评估模型"
   ]
  },
  {
   "cell_type": "markdown",
   "metadata": {},
   "source": [
    "### 4.1 评估测试集表现"
   ]
  },
  {
   "cell_type": "code",
   "execution_count": 55,
   "metadata": {},
   "outputs": [],
   "source": [
    "#加载已经训练好的模型\n",
    "from keras.models import load_model\n",
    "\n",
    "network_cnn_maxpool = load_model('D:/2-AI读书学习笔记/0-python深度学习/0-model_repo/ch5_1_network_cnn_maxpool.h5')\n",
    "network_mlp = load_model('D:/2-AI读书学习笔记/0-python深度学习/0-model_repo/ch5_1_network_mlp.h5')\n",
    "network_cnn_globalmaxpool = load_model('D:/2-AI读书学习笔记/0-python深度学习/0-model_repo/ch5_1_network_cnn_globalmaxpool.h5')\n",
    "network_cnn_avgpool = load_model('D:/2-AI读书学习笔记/0-python深度学习/0-model_repo/ch5_1_network_cnn_avgpool.h5')\n",
    "network_cnn_globalavgpool = load_model('D:/2-AI读书学习笔记/0-python深度学习/0-model_repo/ch5_1_network_cnn_globalavgpool.h5')\n",
    "network_cnn_strid2 = load_model('D:/2-AI读书学习笔记/0-python深度学习/0-model_repo/ch5_1_network_cnn_strid2.h5')\n",
    "network_cnn_deeper = load_model('D:/2-AI读书学习笔记/0-python深度学习/0-model_repo/ch5_1_network_cnn_deeper.h5')\n",
    "network_cnn_nopool = load_model('D:/2-AI读书学习笔记/0-python深度学习/0-model_repo/ch5_1_network_cnn_nopool.h5')\n",
    "network_cnn_padded = load_model('D:/2-AI读书学习笔记/0-python深度学习/0-model_repo/ch5_1_network_cnn_padded.h5')"
   ]
  },
  {
   "cell_type": "code",
   "execution_count": 60,
   "metadata": {},
   "outputs": [
    {
     "name": "stdout",
     "output_type": "stream",
     "text": [
      "313/313 [==============================] - 1s 3ms/step - loss: 0.0534 - accuracy: 0.9916\n",
      "313/313 [==============================] - 0s 771us/step - loss: 0.1055 - accuracy: 0.9743\n",
      "313/313 [==============================] - 1s 3ms/step - loss: 0.3372 - accuracy: 0.8928\n",
      "313/313 [==============================] - 1s 3ms/step - loss: 0.0405 - accuracy: 0.9891\n",
      "313/313 [==============================] - 1s 3ms/step - loss: 0.1182 - accuracy: 0.9627: 0s - loss:\n",
      "313/313 [==============================] - 0s 1ms/step - loss: 0.0979 - accuracy: 0.9779\n",
      "313/313 [==============================] - 2s 7ms/step - loss: 0.0458 - accuracy: 0.9935\n",
      "313/313 [==============================] - 2s 7ms/step - loss: 0.2078 - accuracy: 0.9882\n",
      "313/313 [==============================] - 1s 4ms/step - loss: 0.0623 - accuracy: 0.9914\n"
     ]
    }
   ],
   "source": [
    "#基准模型\n",
    "test_loss_cnn_maxpool, test_acc_cnn_maxpool = network_cnn_maxpool.evaluate(preprocessed_test_images, preprocessed_test_labels)\n",
    "#对照模型1\n",
    "test_loss_mlp, test_acc_mlp = network_mlp.evaluate(preprocessed_test_images, preprocessed_test_labels)\n",
    "#对照模型2\n",
    "test_loss_cnn_globalmaxpool, test_acc_cnn_globalmaxpool = network_cnn_globalmaxpool.evaluate(preprocessed_test_images, preprocessed_test_labels)\n",
    "#对照模型3\n",
    "test_loss_cnn_avgpool, test_acc_cnn_avgpool = network_cnn_avgpool.evaluate(preprocessed_test_images, preprocessed_test_labels)\n",
    "#对照模型4\n",
    "test_loss_cnn_globalavgpool, test_acc_cnn_globalavgpool = network_cnn_globalavgpool.evaluate(preprocessed_test_images, preprocessed_test_labels)\n",
    "#对照模型5\n",
    "test_loss_cnn_strid2, test_acc_cnn_strid2 = network_cnn_strid2.evaluate(preprocessed_test_images, preprocessed_test_labels)\n",
    "#对照模型6\n",
    "test_loss_cnn_deeper, test_acc_cnn_deeper = network_cnn_deeper.evaluate(preprocessed_test_images, preprocessed_test_labels)\n",
    "#对照模型7\n",
    "test_loss_cnn_nopool, test_acc_cnn_nopool = network_cnn_nopool.evaluate(preprocessed_test_images, preprocessed_test_labels)\n",
    "#对照模型8\n",
    "test_loss_cnn_padded, test_acc_cnn_padded = network_cnn_padded.evaluate(preprocessed_test_images, preprocessed_test_labels)\n"
   ]
  },
  {
   "cell_type": "code",
   "execution_count": 61,
   "metadata": {},
   "outputs": [],
   "source": [
    "test_results = [('network_cnn_maxpool',test_acc_cnn_maxpool),\n",
    "               ('network_mlp',test_acc_mlp),\n",
    "               ('network_cnn_globalmaxpool',test_acc_cnn_globalmaxpool),\n",
    "               ('network_cnn_avgpool',test_acc_cnn_avgpool),\n",
    "               ('network_cnn_globalavgpool',test_acc_cnn_globalavgpool),\n",
    "               ('network_cnn_strid2',test_acc_cnn_strid2),\n",
    "               ('network_cnn_deeper',test_acc_cnn_deeper),\n",
    "               ('network_cnn_nopool',test_acc_cnn_nopool),\n",
    "               ('network_cnn_padded',test_acc_cnn_padded)\n",
    "               ]"
   ]
  },
  {
   "cell_type": "code",
   "execution_count": 62,
   "metadata": {},
   "outputs": [],
   "source": [
    "#对测试结果排序\n",
    "sorted_test_results = sorted(test_results, key=lambda x:x[1], reverse=True)"
   ]
  },
  {
   "cell_type": "code",
   "execution_count": 63,
   "metadata": {},
   "outputs": [],
   "source": [
    "models,results = zip(*sorted_test_results)"
   ]
  },
  {
   "cell_type": "code",
   "execution_count": 64,
   "metadata": {},
   "outputs": [
    {
     "data": {
      "image/png": "[encoded data removed]",
      "text/plain": [
       "<Figure size 1008x720 with 1 Axes>"
      ]
     },
     "metadata": {
      "needs_background": "light"
     },
     "output_type": "display_data"
    }
   ],
   "source": [
    "# plt.barh(models,results,align='center',height=0.5)\n",
    "import matplotlib as mpl\n",
    "\n",
    "mpl.rcParams['font.sans-serif'] = ['SimHei'] #为了图表中的汉字显示正常\n",
    "mpl.rcParams['font.family']='sans-serif'\n",
    "\n",
    "fig,ax=plt.subplots(figsize=(14,10))\n",
    "b=ax.barh(models,results,color='#6699CC')  #绘制横向柱状图\n",
    "ax.set_title('各模型在测试集上的准确率')  #设置图标题\n",
    "ax.set_xlabel('分类准确率')\n",
    "ax.set_ylabel('模型')\n",
    "for rect in b: \n",
    "    w=rect.get_width()\n",
    "    ax.text(w,rect.get_y()+rect.get_height()/2,'%f'%float(w),ha='left',va='center') #加数据标签\n",
    "plt.show()"
   ]
  },
  {
   "cell_type": "markdown",
   "metadata": {},
   "source": [
    "### 4.2 评估训练耗时"
   ]
  },
  {
   "cell_type": "code",
   "execution_count": 2,
   "metadata": {},
   "outputs": [],
   "source": [
    "train_time = [('network_cnn_maxpool_traintime',706),\n",
    "               ('network_mlp_traintime',43),\n",
    "               ('network_cnn_globalmaxpool_traintime',538),\n",
    "               ('network_cnn_avgpool_traintime',707),\n",
    "               ('network_cnn_globalavgpool_traintime',675),\n",
    "               ('network_cnn_strid2_traintime',181),\n",
    "               ('network_cnn_deeper_traintime',1964),\n",
    "               ('network_cnn_nopool_traintime',1452),\n",
    "               ('network_cnn_padded_traintime',632)\n",
    "               ]"
   ]
  },
  {
   "cell_type": "code",
   "execution_count": 4,
   "metadata": {},
   "outputs": [],
   "source": [
    "sorted_train_time = sorted(train_time, key=lambda x:x[1], reverse=True)\n",
    "models,time = zip(*sorted_train_time)"
   ]
  },
  {
   "cell_type": "code",
   "execution_count": 7,
   "metadata": {},
   "outputs": [
    {
     "data": {
      "image/png": "[encoded data removed]",
      "text/plain": [
       "<Figure size 1008x720 with 1 Axes>"
      ]
     },
     "metadata": {
      "needs_background": "light"
     },
     "output_type": "display_data"
    }
   ],
   "source": [
    "import matplotlib as mpl\n",
    "import matplotlib.pyplot as plt\n",
    "\n",
    "mpl.rcParams['font.sans-serif'] = ['SimHei'] #为了图表中的汉字显示正常\n",
    "mpl.rcParams['font.family']='sans-serif'\n",
    "\n",
    "fig,ax=plt.subplots(figsize=(14,10))\n",
    "b=ax.barh(models,time,color='#6699CC')  #绘制横向柱状图\n",
    "ax.set_title('各模型训练时间')  #设置图标题\n",
    "ax.set_xlabel('训练时间')\n",
    "ax.set_ylabel('模型')\n",
    "for rect in b: \n",
    "    w=rect.get_width()\n",
    "    ax.text(w,rect.get_y()+rect.get_height()/2,'%f'%float(w),ha='left',va='center') #加数据标签\n",
    "plt.show()"
   ]
  },
  {
   "cell_type": "markdown",
   "metadata": {},
   "source": [
    "### 4.3 评估训练集表现"
   ]
  },
  {
   "cell_type": "code",
   "execution_count": 65,
   "metadata": {},
   "outputs": [],
   "source": [
    "# dict_cnn_maxpool = his_cnn_maxpool.history\n",
    "# dict_mlp = his_mlp.history\n",
    "# dict_cnn_globalmaxpool = his_cnn_globalmaxpool.history\n",
    "# dict_cnn_avgpool = his_cnn_avgpool.history\n",
    "# dict_cnn_globalavgpool = his_cnn_globalavgpool.history\n",
    "# dict_cnn_strid2 = his_cnn_strid2.history\n",
    "# dict_cnn_deeper = his_cnn_deeper.history\n",
    "# dict_cnn_nopool = his_cnn_nopool.history\n",
    "# dict_cnn_padded = his_cnn_padded.history"
   ]
  },
  {
   "cell_type": "code",
   "execution_count": 1,
   "metadata": {},
   "outputs": [],
   "source": [
    "#加载已经保存的训练历史记录\n",
    "import pickle\n",
    "\n",
    "with open('D:/2-AI读书学习笔记/0-python深度学习/0-model_repo/ch5_1_network_cnn_maxpool_trainHistoryDict.txt', 'rb') as file_pi:\n",
    "    dict_cnn_maxpool = pickle.load(file_pi)\n",
    "    \n",
    "with open('D:/2-AI读书学习笔记/0-python深度学习/0-model_repo/ch5_1_network_mlp_trainHistoryDict.txt', 'rb') as file_pi:\n",
    "    dict_mlp = pickle.load(file_pi)\n",
    "    \n",
    "with open('D:/2-AI读书学习笔记/0-python深度学习/0-model_repo/ch5_1_network_cnn_globalmaxpool_trainHistoryDict.txt', 'rb') as file_pi:\n",
    "    dict_cnn_globalmaxpool  = pickle.load(file_pi)\n",
    "    \n",
    "with open('D:/2-AI读书学习笔记/0-python深度学习/0-model_repo/ch5_1_network_cnn_avgpool_trainHistoryDict.txt', 'rb') as file_pi:\n",
    "    dict_cnn_avgpool  = pickle.load(file_pi)\n",
    "\n",
    "with open('D:/2-AI读书学习笔记/0-python深度学习/0-model_repo/ch5_1_network_cnn_globalavgpool_trainHistoryDict.txt', 'rb') as file_pi:\n",
    "    dict_cnn_globalavgpool  = pickle.load(file_pi)\n",
    "    \n",
    "with open('D:/2-AI读书学习笔记/0-python深度学习/0-model_repo/ch5_1_network_cnn_strid2_trainHistoryDict.txt', 'rb') as file_pi:\n",
    "    dict_cnn_strid2  = pickle.load(file_pi)\n",
    "    \n",
    "with open('D:/2-AI读书学习笔记/0-python深度学习/0-model_repo/ch5_1_network_cnn_deeper_trainHistoryDict.txt', 'rb') as file_pi:\n",
    "    dict_cnn_deeper  = pickle.load(file_pi)\n",
    "    \n",
    "with open('D:/2-AI读书学习笔记/0-python深度学习/0-model_repo/ch5_1_network_cnn_nopool_trainHistoryDict.txt', 'rb') as file_pi:\n",
    "    dict_cnn_nopool  = pickle.load(file_pi)\n",
    "    \n",
    "with open('D:/2-AI读书学习笔记/0-python深度学习/0-model_repo/ch5_1_network_cnn_nopool_trainHistoryDict.txt', 'rb') as file_pi:\n",
    "    dict_cnn_padded = pickle.load(file_pi)"
   ]
  },
  {
   "cell_type": "code",
   "execution_count": 9,
   "metadata": {},
   "outputs": [
    {
     "data": {
      "text/plain": [
       "0.9994500279426575"
      ]
     },
     "execution_count": 9,
     "metadata": {},
     "output_type": "execute_result"
    }
   ],
   "source": [
    "max(dict_cnn_maxpool['accuracy'])"
   ]
  },
  {
   "cell_type": "code",
   "execution_count": 10,
   "metadata": {},
   "outputs": [
    {
     "data": {
      "text/plain": [
       "0.9937166571617126"
      ]
     },
     "execution_count": 10,
     "metadata": {},
     "output_type": "execute_result"
    }
   ],
   "source": [
    "max(dict_mlp['accuracy']) "
   ]
  },
  {
   "cell_type": "code",
   "execution_count": 69,
   "metadata": {},
   "outputs": [
    {
     "data": {
      "image/png": "[encoded data removed]",
      "text/plain": [
       "<Figure size 432x288 with 1 Axes>"
      ]
     },
     "metadata": {
      "needs_background": "light"
     },
     "output_type": "display_data"
    }
   ],
   "source": [
    "x = range(1,21)\n",
    "plt.plot(x,dict_cnn_maxpool['accuracy'],label = 'acc of \\'cnn_maxpool\\' model')\n",
    "plt.plot(x,dict_mlp['accuracy'],label = 'acc of \\'cnn_mlp\\' model')\n",
    "plt.plot(x,dict_cnn_globalmaxpool['accuracy'],label = 'acc of \\'cnn_globalmaxpool\\' model')\n",
    "plt.plot(x,dict_cnn_avgpool['accuracy'],label = 'acc of \\'cnn_avgpool\\' model')\n",
    "plt.plot(x,dict_cnn_globalavgpool['accuracy'],label = 'acc of \\'cnn_globalavgpool\\' model')\n",
    "plt.plot(x,dict_cnn_strid2['accuracy'],label = 'acc of \\'cnn_strid2\\' model')\n",
    "plt.plot(x,dict_cnn_deeper['accuracy'],label = 'acc of \\'cnn_deeper\\' model')\n",
    "plt.plot(x,dict_cnn_nopool['accuracy'],label = 'acc of \\'cnn_nopool\\' model')\n",
    "plt.plot(x,dict_cnn_padded['accuracy'],label = 'acc of \\'cnn_padded\\' model')\n",
    "plt.xlabel('Epochs')\n",
    "plt.ylabel('acc')\n",
    "plt.legend()\n",
    "plt.show()"
   ]
  },
  {
   "cell_type": "code",
   "execution_count": 70,
   "metadata": {},
   "outputs": [
    {
     "data": {
      "image/png": "[encoded data removed]",
      "text/plain": [
       "<Figure size 432x288 with 1 Axes>"
      ]
     },
     "metadata": {
      "needs_background": "light"
     },
     "output_type": "display_data"
    }
   ],
   "source": [
    "x = range(1,21)\n",
    "plt.plot(x,dict_cnn_maxpool['accuracy'],label = 'acc of \\'cnn_maxpool\\' model')\n",
    "plt.plot(x,dict_mlp['accuracy'],label = 'acc of \\'cnn_mlp\\' model')\n",
    "plt.xlabel('Epochs')\n",
    "plt.ylabel('acc')\n",
    "plt.legend()\n",
    "plt.show()"
   ]
  },
  {
   "cell_type": "code",
   "execution_count": 16,
   "metadata": {},
   "outputs": [
    {
     "data": {
      "image/png": "[encoded data removed]",
      "text/plain": [
       "<Figure size 432x288 with 1 Axes>"
      ]
     },
     "metadata": {
      "needs_background": "light"
     },
     "output_type": "display_data"
    }
   ],
   "source": [
    "x = range(1,21)\n",
    "plt.plot(x,dict_cnn_maxpool['accuracy'],label = 'acc of \\'cnn_maxpool\\' model')\n",
    "plt.plot(x,dict_cnn_globalmaxpool['accuracy'],label = 'acc of \\'cnn_globalmaxpool\\' model')\n",
    "plt.plot(x,dict_cnn_avgpool['accuracy'],label = 'acc of \\'cnn_avgpool\\' model')\n",
    "plt.plot(x,dict_cnn_globalavgpool['accuracy'],label = 'acc of \\'cnn_globalavgpool\\' model')\n",
    "plt.xlabel('Epochs')\n",
    "plt.ylabel('acc')\n",
    "plt.legend()\n",
    "plt.show()"
   ]
  },
  {
   "cell_type": "code",
   "execution_count": 17,
   "metadata": {},
   "outputs": [
    {
     "name": "stdout",
     "output_type": "stream",
     "text": [
      "0.9994500279426575\n",
      "0.8756499886512756\n",
      "0.9983999729156494\n",
      "0.9680833220481873\n"
     ]
    }
   ],
   "source": [
    "print(max(dict_cnn_maxpool['accuracy']))\n",
    "print(max(dict_cnn_globalmaxpool['accuracy']))\n",
    "print(max(dict_cnn_avgpool['accuracy']))\n",
    "print(max(dict_cnn_globalavgpool['accuracy']))"
   ]
  },
  {
   "cell_type": "code",
   "execution_count": 12,
   "metadata": {},
   "outputs": [
    {
     "data": {
      "image/png": "[encoded data removed]",
      "text/plain": [
       "<Figure size 432x288 with 1 Axes>"
      ]
     },
     "metadata": {
      "needs_background": "light"
     },
     "output_type": "display_data"
    }
   ],
   "source": [
    "import matplotlib.pyplot as plt\n",
    "x = range(1,21)\n",
    "plt.plot(x,dict_cnn_maxpool['accuracy'],label = 'acc of \\'cnn_maxpool\\' model')\n",
    "plt.plot(x,dict_cnn_strid2['accuracy'],label = 'acc of \\'cnn_strid2\\' model')\n",
    "plt.xlabel('Epochs')\n",
    "plt.ylabel('acc')\n",
    "plt.legend()\n",
    "plt.show()"
   ]
  },
  {
   "cell_type": "code",
   "execution_count": 13,
   "metadata": {},
   "outputs": [
    {
     "data": {
      "text/plain": [
       "0.9931166768074036"
      ]
     },
     "execution_count": 13,
     "metadata": {},
     "output_type": "execute_result"
    }
   ],
   "source": [
    "max(dict_cnn_strid2['accuracy'])"
   ]
  },
  {
   "cell_type": "code",
   "execution_count": 75,
   "metadata": {},
   "outputs": [
    {
     "name": "stdout",
     "output_type": "stream",
     "text": [
      "0.9994500279426575\n",
      "0.9931166768074036\n"
     ]
    }
   ],
   "source": [
    "print(max(dict_cnn_maxpool['accuracy']))\n",
    "print(max(dict_cnn_strid2['accuracy']))"
   ]
  },
  {
   "cell_type": "code",
   "execution_count": 14,
   "metadata": {},
   "outputs": [
    {
     "data": {
      "image/png": "[encoded data removed]",
      "text/plain": [
       "<Figure size 432x288 with 1 Axes>"
      ]
     },
     "metadata": {
      "needs_background": "light"
     },
     "output_type": "display_data"
    }
   ],
   "source": [
    "x = range(1,21)\n",
    "plt.plot(x,dict_cnn_maxpool['accuracy'],label = 'acc of \\'cnn_maxpool\\' model')\n",
    "plt.plot(x,dict_cnn_deeper['accuracy'],label = 'acc of \\'cnn_deeper\\' model')\n",
    "plt.xlabel('Epochs')\n",
    "plt.ylabel('acc')\n",
    "plt.legend()\n",
    "plt.show()"
   ]
  },
  {
   "cell_type": "code",
   "execution_count": 15,
   "metadata": {},
   "outputs": [
    {
     "name": "stdout",
     "output_type": "stream",
     "text": [
      "0.9994500279426575\n",
      "0.9985833168029785\n"
     ]
    }
   ],
   "source": [
    "print(max(dict_cnn_maxpool['accuracy']))\n",
    "print(max(dict_cnn_deeper['accuracy']))"
   ]
  },
  {
   "cell_type": "code",
   "execution_count": 78,
   "metadata": {},
   "outputs": [
    {
     "data": {
      "image/png": "[encoded data removed]",
      "text/plain": [
       "<Figure size 432x288 with 1 Axes>"
      ]
     },
     "metadata": {
      "needs_background": "light"
     },
     "output_type": "display_data"
    }
   ],
   "source": [
    "x = range(1,21)\n",
    "plt.plot(x,dict_cnn_maxpool['accuracy'],label = 'acc of \\'cnn_maxpool\\' model')\n",
    "plt.plot(x,dict_cnn_nopool['accuracy'],label = 'acc of \\'cnn_nopool\\' model')\n",
    "plt.xlabel('Epochs')\n",
    "plt.ylabel('acc')\n",
    "plt.legend()\n",
    "plt.show()"
   ]
  },
  {
   "cell_type": "code",
   "execution_count": 11,
   "metadata": {},
   "outputs": [
    {
     "name": "stdout",
     "output_type": "stream",
     "text": [
      "0.9994500279426575\n",
      "0.9999499917030334\n"
     ]
    }
   ],
   "source": [
    "print(max(dict_cnn_maxpool['accuracy']))\n",
    "print(max(dict_cnn_nopool['accuracy']))"
   ]
  },
  {
   "cell_type": "code",
   "execution_count": 6,
   "metadata": {},
   "outputs": [
    {
     "data": {
      "image/png": "[encoded data removed]",
      "text/plain": [
       "<Figure size 432x288 with 1 Axes>"
      ]
     },
     "metadata": {
      "needs_background": "light"
     },
     "output_type": "display_data"
    }
   ],
   "source": [
    "import matplotlib.pyplot as plt\n",
    "x = range(1,21)\n",
    "plt.plot(x,dict_cnn_maxpool['accuracy'],label = 'acc of \\'cnn_maxpool\\' model')\n",
    "plt.plot(x,dict_cnn_padded['accuracy'],label = 'acc of \\'cnn_strid2\\' model')\n",
    "plt.xlabel('Epochs')\n",
    "plt.ylabel('acc')\n",
    "plt.legend()\n",
    "plt.show()"
   ]
  },
  {
   "cell_type": "code",
   "execution_count": 7,
   "metadata": {},
   "outputs": [
    {
     "name": "stdout",
     "output_type": "stream",
     "text": [
      "0.9999499917030334\n"
     ]
    }
   ],
   "source": [
    "print(max(dict_cnn_padded['accuracy']))"
   ]
  },
  {
   "cell_type": "markdown",
   "metadata": {},
   "source": [
    "## 补充：观察卷积窗口对模型的影响"
   ]
  },
  {
   "cell_type": "markdown",
   "metadata": {},
   "source": [
    "### 构建卷积窗口为（1,1）的模型"
   ]
  },
  {
   "cell_type": "code",
   "execution_count": 43,
   "metadata": {},
   "outputs": [],
   "source": [
    "network_cnn_maxpool_conv1 = models.Sequential()\n",
    "network_cnn_maxpool_conv1.add(layers.Conv2D(32,(1,1), activation = 'relu', input_shape = (28,28,1))) #输入：高度 x 宽度 x 颜色通道\n",
    "network_cnn_maxpool_conv1.add(layers.MaxPooling2D((2,2)))\n",
    "network_cnn_maxpool_conv1.add(layers.Conv2D(64,(1,1), activation = 'relu'))\n",
    "network_cnn_maxpool_conv1.add(layers.MaxPooling2D((2,2)))\n",
    "\n",
    "network_cnn_maxpool_conv1.add(layers.Flatten()) #将3D压缩为1D\n",
    "network_cnn_maxpool_conv1.add(layers.Dense(64, activation = 'relu'))\n",
    "network_cnn_maxpool_conv1.add(layers.Dense(10, activation = 'softmax'))"
   ]
  },
  {
   "cell_type": "code",
   "execution_count": 44,
   "metadata": {},
   "outputs": [
    {
     "name": "stdout",
     "output_type": "stream",
     "text": [
      "Model: \"sequential_10\"\n",
      "_________________________________________________________________\n",
      "Layer (type)                 Output Shape              Param #   \n",
      "=================================================================\n",
      "conv2d_21 (Conv2D)           (None, 28, 28, 32)        64        \n",
      "_________________________________________________________________\n",
      "max_pooling2d_11 (MaxPooling (None, 14, 14, 32)        0         \n",
      "_________________________________________________________________\n",
      "conv2d_22 (Conv2D)           (None, 14, 14, 64)        2112      \n",
      "_________________________________________________________________\n",
      "max_pooling2d_12 (MaxPooling (None, 7, 7, 64)          0         \n",
      "_________________________________________________________________\n",
      "flatten_8 (Flatten)          (None, 3136)              0         \n",
      "_________________________________________________________________\n",
      "dense_20 (Dense)             (None, 64)                200768    \n",
      "_________________________________________________________________\n",
      "dense_21 (Dense)             (None, 10)                650       \n",
      "=================================================================\n",
      "Total params: 203,594\n",
      "Trainable params: 203,594\n",
      "Non-trainable params: 0\n",
      "_________________________________________________________________\n"
     ]
    }
   ],
   "source": [
    "network_cnn_maxpool_conv1.compile(optimizer = 'rmsprop', loss = 'categorical_crossentropy', metrics = ['accuracy'])\n",
    "network_cnn_maxpool_conv1.summary()"
   ]
  },
  {
   "cell_type": "markdown",
   "metadata": {},
   "source": [
    "### 构建卷积窗口为（2,2）的模型"
   ]
  },
  {
   "cell_type": "code",
   "execution_count": 46,
   "metadata": {},
   "outputs": [],
   "source": [
    "network_cnn_maxpool_conv2 = models.Sequential()\n",
    "network_cnn_maxpool_conv2.add(layers.Conv2D(32,(2,2), activation = 'relu', input_shape = (28,28,1))) #输入：高度 x 宽度 x 颜色通道\n",
    "network_cnn_maxpool_conv2.add(layers.MaxPooling2D((2,2)))\n",
    "network_cnn_maxpool_conv2.add(layers.Conv2D(64,(2,2), activation = 'relu'))\n",
    "network_cnn_maxpool_conv2.add(layers.MaxPooling2D((2,2)))\n",
    "\n",
    "network_cnn_maxpool_conv2.add(layers.Flatten()) #将3D压缩为1D\n",
    "network_cnn_maxpool_conv2.add(layers.Dense(64, activation = 'relu'))\n",
    "network_cnn_maxpool_conv2.add(layers.Dense(10, activation = 'softmax'))"
   ]
  },
  {
   "cell_type": "code",
   "execution_count": 47,
   "metadata": {},
   "outputs": [
    {
     "name": "stdout",
     "output_type": "stream",
     "text": [
      "Model: \"sequential_11\"\n",
      "_________________________________________________________________\n",
      "Layer (type)                 Output Shape              Param #   \n",
      "=================================================================\n",
      "conv2d_23 (Conv2D)           (None, 27, 27, 32)        160       \n",
      "_________________________________________________________________\n",
      "max_pooling2d_13 (MaxPooling (None, 13, 13, 32)        0         \n",
      "_________________________________________________________________\n",
      "conv2d_24 (Conv2D)           (None, 12, 12, 64)        8256      \n",
      "_________________________________________________________________\n",
      "max_pooling2d_14 (MaxPooling (None, 6, 6, 64)          0         \n",
      "_________________________________________________________________\n",
      "flatten_9 (Flatten)          (None, 2304)              0         \n",
      "_________________________________________________________________\n",
      "dense_22 (Dense)             (None, 64)                147520    \n",
      "_________________________________________________________________\n",
      "dense_23 (Dense)             (None, 10)                650       \n",
      "=================================================================\n",
      "Total params: 156,586\n",
      "Trainable params: 156,586\n",
      "Non-trainable params: 0\n",
      "_________________________________________________________________\n"
     ]
    }
   ],
   "source": [
    "network_cnn_maxpool_conv2.compile(optimizer = 'rmsprop', loss = 'categorical_crossentropy', metrics = ['accuracy'])\n",
    "network_cnn_maxpool_conv2.summary()"
   ]
  },
  {
   "cell_type": "markdown",
   "metadata": {},
   "source": [
    "### 构建卷积窗口为（4,4）的模型"
   ]
  },
  {
   "cell_type": "code",
   "execution_count": 48,
   "metadata": {},
   "outputs": [],
   "source": [
    "network_cnn_maxpool_conv4 = models.Sequential()\n",
    "network_cnn_maxpool_conv4.add(layers.Conv2D(32,(4,4), activation = 'relu', input_shape = (28,28,1))) #输入：高度 x 宽度 x 颜色通道\n",
    "network_cnn_maxpool_conv4.add(layers.MaxPooling2D((2,2)))\n",
    "network_cnn_maxpool_conv4.add(layers.Conv2D(64,(4,4), activation = 'relu'))\n",
    "network_cnn_maxpool_conv4.add(layers.MaxPooling2D((2,2)))\n",
    "\n",
    "network_cnn_maxpool_conv4.add(layers.Flatten()) #将3D压缩为1D\n",
    "network_cnn_maxpool_conv4.add(layers.Dense(64, activation = 'relu'))\n",
    "network_cnn_maxpool_conv4.add(layers.Dense(10, activation = 'softmax'))"
   ]
  },
  {
   "cell_type": "code",
   "execution_count": 49,
   "metadata": {},
   "outputs": [
    {
     "name": "stdout",
     "output_type": "stream",
     "text": [
      "Model: \"sequential_12\"\n",
      "_________________________________________________________________\n",
      "Layer (type)                 Output Shape              Param #   \n",
      "=================================================================\n",
      "conv2d_25 (Conv2D)           (None, 25, 25, 32)        544       \n",
      "_________________________________________________________________\n",
      "max_pooling2d_15 (MaxPooling (None, 12, 12, 32)        0         \n",
      "_________________________________________________________________\n",
      "conv2d_26 (Conv2D)           (None, 9, 9, 64)          32832     \n",
      "_________________________________________________________________\n",
      "max_pooling2d_16 (MaxPooling (None, 4, 4, 64)          0         \n",
      "_________________________________________________________________\n",
      "flatten_10 (Flatten)         (None, 1024)              0         \n",
      "_________________________________________________________________\n",
      "dense_24 (Dense)             (None, 64)                65600     \n",
      "_________________________________________________________________\n",
      "dense_25 (Dense)             (None, 10)                650       \n",
      "=================================================================\n",
      "Total params: 99,626\n",
      "Trainable params: 99,626\n",
      "Non-trainable params: 0\n",
      "_________________________________________________________________\n"
     ]
    }
   ],
   "source": [
    "network_cnn_maxpool_conv4.compile(optimizer = 'rmsprop', loss = 'categorical_crossentropy', metrics = ['accuracy'])\n",
    "network_cnn_maxpool_conv4.summary()"
   ]
  },
  {
   "cell_type": "markdown",
   "metadata": {},
   "source": [
    "### 训练模型"
   ]
  },
  {
   "cell_type": "code",
   "execution_count": 51,
   "metadata": {},
   "outputs": [
    {
     "name": "stdout",
     "output_type": "stream",
     "text": [
      "Epoch 1/20\n",
      "938/938 [==============================] - 13s 14ms/step - loss: 0.5405 - accuracy: 0.8264\n",
      "Epoch 2/20\n",
      "938/938 [==============================] - 15s 16ms/step - loss: 0.3444 - accuracy: 0.8878\n",
      "Epoch 3/20\n",
      "938/938 [==============================] - 16s 18ms/step - loss: 0.2978 - accuracy: 0.9045\n",
      "Epoch 4/20\n",
      "938/938 [==============================] - 17s 18ms/step - loss: 0.2712 - accuracy: 0.9129\n",
      "Epoch 5/20\n",
      "938/938 [==============================] - 16s 17ms/step - loss: 0.2543 - accuracy: 0.9188\n",
      "Epoch 6/20\n",
      "938/938 [==============================] - 16s 17ms/step - loss: 0.2407 - accuracy: 0.9232\n",
      "Epoch 7/20\n",
      "938/938 [==============================] - 16s 17ms/step - loss: 0.2283 - accuracy: 0.9270\n",
      "Epoch 8/20\n",
      "938/938 [==============================] - 16s 17ms/step - loss: 0.2037 - accuracy: 0.9356\n",
      "Epoch 9/20\n",
      "938/938 [==============================] - 16s 17ms/step - loss: 0.1847 - accuracy: 0.9419\n",
      "Epoch 10/20\n",
      "938/938 [==============================] - 16s 17ms/step - loss: 0.1743 - accuracy: 0.9462\n",
      "Epoch 11/20\n",
      "938/938 [==============================] - 17s 18ms/step - loss: 0.1647 - accuracy: 0.9480\n",
      "Epoch 12/20\n",
      "938/938 [==============================] - 16s 17ms/step - loss: 0.1577 - accuracy: 0.9498\n",
      "Epoch 13/20\n",
      "938/938 [==============================] - 16s 18ms/step - loss: 0.1531 - accuracy: 0.9520\n",
      "Epoch 14/20\n",
      "938/938 [==============================] - 17s 18ms/step - loss: 0.1488 - accuracy: 0.9530\n",
      "Epoch 15/20\n",
      "938/938 [==============================] - 16s 17ms/step - loss: 0.1448 - accuracy: 0.9539\n",
      "Epoch 16/20\n",
      "938/938 [==============================] - 16s 17ms/step - loss: 0.1411 - accuracy: 0.9545\n",
      "Epoch 17/20\n",
      "938/938 [==============================] - 16s 17ms/step - loss: 0.1371 - accuracy: 0.9556\n",
      "Epoch 18/20\n",
      "938/938 [==============================] - 16s 17ms/step - loss: 0.1352 - accuracy: 0.9570\n",
      "Epoch 19/20\n",
      "938/938 [==============================] - 16s 17ms/step - loss: 0.1325 - accuracy: 0.95760s - loss: 0.1319 - accuracy\n",
      "Epoch 20/20\n",
      "938/938 [==============================] - 16s 17ms/step - loss: 0.1276 - accuracy: 0.9591\n",
      "Epoch 1/20\n",
      "938/938 [==============================] - 20s 21ms/step - loss: 0.2041 - accuracy: 0.9376\n",
      "Epoch 2/20\n",
      "938/938 [==============================] - 20s 21ms/step - loss: 0.0646 - accuracy: 0.9796\n",
      "Epoch 3/20\n",
      "938/938 [==============================] - 20s 21ms/step - loss: 0.0454 - accuracy: 0.9862\n",
      "Epoch 4/20\n",
      "938/938 [==============================] - 20s 21ms/step - loss: 0.0359 - accuracy: 0.9888\n",
      "Epoch 5/20\n",
      "938/938 [==============================] - 20s 21ms/step - loss: 0.0286 - accuracy: 0.9913\n",
      "Epoch 6/20\n",
      "938/938 [==============================] - 20s 21ms/step - loss: 0.0235 - accuracy: 0.9933\n",
      "Epoch 7/20\n",
      "938/938 [==============================] - 20s 21ms/step - loss: 0.0200 - accuracy: 0.9942\n",
      "Epoch 8/20\n",
      "938/938 [==============================] - 20s 21ms/step - loss: 0.0163 - accuracy: 0.9951\n",
      "Epoch 9/20\n",
      "938/938 [==============================] - 20s 21ms/step - loss: 0.0139 - accuracy: 0.9957\n",
      "Epoch 10/20\n",
      "938/938 [==============================] - 20s 21ms/step - loss: 0.0122 - accuracy: 0.9965\n",
      "Epoch 11/20\n",
      "938/938 [==============================] - 19s 21ms/step - loss: 0.0108 - accuracy: 0.9969\n",
      "Epoch 12/20\n",
      "938/938 [==============================] - 20s 21ms/step - loss: 0.0089 - accuracy: 0.9973\n",
      "Epoch 13/20\n",
      "938/938 [==============================] - 20s 21ms/step - loss: 0.0079 - accuracy: 0.9977\n",
      "Epoch 14/20\n",
      "938/938 [==============================] - 20s 21ms/step - loss: 0.0066 - accuracy: 0.9979\n",
      "Epoch 15/20\n",
      "938/938 [==============================] - 20s 21ms/step - loss: 0.0054 - accuracy: 0.9983\n",
      "Epoch 16/20\n",
      "938/938 [==============================] - 20s 21ms/step - loss: 0.0050 - accuracy: 0.9984\n",
      "Epoch 17/20\n",
      "938/938 [==============================] - 20s 21ms/step - loss: 0.0040 - accuracy: 0.9988\n",
      "Epoch 18/20\n",
      "938/938 [==============================] - 20s 21ms/step - loss: 0.0036 - accuracy: 0.99890s - loss: 0.0\n",
      "Epoch 19/20\n",
      "938/938 [==============================] - 20s 21ms/step - loss: 0.0038 - accuracy: 0.9988\n",
      "Epoch 20/20\n",
      "938/938 [==============================] - 20s 21ms/step - loss: 0.0022 - accuracy: 0.9994\n",
      "Epoch 1/20\n",
      "938/938 [==============================] - 23s 24ms/step - loss: 0.1661 - accuracy: 0.9486\n",
      "Epoch 2/20\n",
      "938/938 [==============================] - 23s 24ms/step - loss: 0.0466 - accuracy: 0.9856\n",
      "Epoch 3/20\n",
      "938/938 [==============================] - 23s 25ms/step - loss: 0.0321 - accuracy: 0.9897\n",
      "Epoch 4/20\n",
      "938/938 [==============================] - 25s 26ms/step - loss: 0.0247 - accuracy: 0.9925\n",
      "Epoch 5/20\n",
      "938/938 [==============================] - 23s 24ms/step - loss: 0.0194 - accuracy: 0.9941\n",
      "Epoch 6/20\n",
      "938/938 [==============================] - 23s 24ms/step - loss: 0.0161 - accuracy: 0.99500s - loss: 0.0160 - accu\n",
      "Epoch 7/20\n",
      "938/938 [==============================] - 23s 24ms/step - loss: 0.0125 - accuracy: 0.9963\n",
      "Epoch 8/20\n",
      "938/938 [==============================] - 23s 25ms/step - loss: 0.0115 - accuracy: 0.9964\n",
      "Epoch 9/20\n",
      "938/938 [==============================] - 23s 25ms/step - loss: 0.0098 - accuracy: 0.9970\n",
      "Epoch 10/20\n",
      "938/938 [==============================] - 24s 26ms/step - loss: 0.0080 - accuracy: 0.9977\n",
      "Epoch 11/20\n",
      "938/938 [==============================] - 23s 24ms/step - loss: 0.0067 - accuracy: 0.9979\n",
      "Epoch 12/20\n",
      "938/938 [==============================] - 23s 25ms/step - loss: 0.0057 - accuracy: 0.9985\n",
      "Epoch 13/20\n",
      "938/938 [==============================] - 23s 25ms/step - loss: 0.0053 - accuracy: 0.9984\n",
      "Epoch 14/20\n",
      "938/938 [==============================] - 24s 25ms/step - loss: 0.0046 - accuracy: 0.9987\n",
      "Epoch 15/20\n",
      "938/938 [==============================] - 23s 25ms/step - loss: 0.0047 - accuracy: 0.9987\n",
      "Epoch 16/20\n",
      "938/938 [==============================] - 23s 25ms/step - loss: 0.0039 - accuracy: 0.9990\n",
      "Epoch 17/20\n",
      "938/938 [==============================] - 23s 25ms/step - loss: 0.0031 - accuracy: 0.9991\n",
      "Epoch 18/20\n",
      "938/938 [==============================] - 23s 24ms/step - loss: 0.0032 - accuracy: 0.9991\n",
      "Epoch 19/20\n",
      "938/938 [==============================] - 23s 25ms/step - loss: 0.0027 - accuracy: 0.9992\n",
      "Epoch 20/20\n",
      "938/938 [==============================] - 23s 25ms/step - loss: 0.0027 - accuracy: 0.9992\n"
     ]
    }
   ],
   "source": [
    "his_cnn_maxpool_conv1 = network_cnn_maxpool_conv1.fit(preprocessed_train_images, preprocessed_train_labels, epochs = 20,batch_size = 64)\n",
    "his_cnn_maxpool_conv2 = network_cnn_maxpool_conv2.fit(preprocessed_train_images, preprocessed_train_labels, epochs = 20,batch_size = 64)\n",
    "his_cnn_maxpool_conv4 = network_cnn_maxpool_conv4.fit(preprocessed_train_images, preprocessed_train_labels, epochs = 20,batch_size = 64)"
   ]
  },
  {
   "cell_type": "markdown",
   "metadata": {},
   "source": [
    "### 保存模型及训练历史"
   ]
  },
  {
   "cell_type": "code",
   "execution_count": 54,
   "metadata": {},
   "outputs": [],
   "source": [
    "network_cnn_maxpool_conv1.save('D:/2-AI读书学习笔记/0-python深度学习/0-model_repo/ch5_1_network_cnn_conv1.h5')\n",
    "network_cnn_maxpool_conv2.save('D:/2-AI读书学习笔记/0-python深度学习/0-model_repo/ch5_1_network_cnn_conv2.h5')\n",
    "network_cnn_maxpool_conv4.save('D:/2-AI读书学习笔记/0-python深度学习/0-model_repo/ch5_1_network_cnn_conv4.h5')\n",
    "\n",
    "#保存模型训练历史记录\n",
    "import pickle\n",
    " \n",
    "with open('D:/2-AI读书学习笔记/0-python深度学习/0-model_repo/ch5_1_network_cnn_conv1_trainHistoryDict.txt', 'wb') as file_pi:\n",
    "    pickle.dump(his_cnn_maxpool_conv1.history, file_pi)#将训练历史数据保存到指定文件中\n",
    "    \n",
    "with open('D:/2-AI读书学习笔记/0-python深度学习/0-model_repo/ch5_1_network_cnn_conv2_trainHistoryDict.txt', 'wb') as file_pi:\n",
    "    pickle.dump(his_cnn_maxpool_conv2.history, file_pi)#将训练历史数据保存到指定文件中\n",
    "\n",
    "with open('D:/2-AI读书学习笔记/0-python深度学习/0-model_repo/ch5_1_network_cnn_conv4_trainHistoryDict.txt', 'wb') as file_pi:\n",
    "    pickle.dump(his_cnn_maxpool_conv4.history, file_pi)#将训练历史数据保存到指定文件中"
   ]
  },
  {
   "cell_type": "code",
   "execution_count": 56,
   "metadata": {},
   "outputs": [
    {
     "name": "stdout",
     "output_type": "stream",
     "text": [
      "313/313 [==============================] - 1s 3ms/step - loss: 0.0534 - accuracy: 0.9916\n",
      "313/313 [==============================] - 1s 3ms/step - loss: 0.1525 - accuracy: 0.9532\n",
      "313/313 [==============================] - 1s 3ms/step - loss: 0.0658 - accuracy: 0.9885\n",
      "313/313 [==============================] - 1s 3ms/step - loss: 0.0649 - accuracy: 0.9915\n"
     ]
    }
   ],
   "source": [
    "#基准模型\n",
    "test_loss_cnn_maxpool, test_acc_cnn_maxpool = network_cnn_maxpool.evaluate(preprocessed_test_images, preprocessed_test_labels)\n",
    "test_loss_cnn_maxpool_conv1, test_acc_cnn_maxpool_conv1 = network_cnn_maxpool_conv1.evaluate(preprocessed_test_images, preprocessed_test_labels)\n",
    "test_loss_cnn_maxpool_conv2, test_acc_cnn_maxpool_conv2 = network_cnn_maxpool_conv2.evaluate(preprocessed_test_images, preprocessed_test_labels)\n",
    "test_loss_cnn_maxpool_conv4, test_acc_cnn_maxpool_conv4 = network_cnn_maxpool_conv4.evaluate(preprocessed_test_images, preprocessed_test_labels)"
   ]
  },
  {
   "cell_type": "code",
   "execution_count": 58,
   "metadata": {},
   "outputs": [],
   "source": [
    "conv_test_results = [('network_cnn_maxpool',test_acc_cnn_maxpool),\n",
    "               ('network_cnn_maxpool_conv1',test_acc_cnn_maxpool_conv1),\n",
    "               ('network_cnn_maxpool_conv2',test_acc_cnn_maxpool_conv2),\n",
    "               ('network_cnn_maxpool_conv4',test_acc_cnn_maxpool_conv4)\n",
    "               ]"
   ]
  },
  {
   "cell_type": "code",
   "execution_count": 59,
   "metadata": {},
   "outputs": [
    {
     "data": {
      "image/png": "[encoded data removed]",
      "text/plain": [
       "<Figure size 1008x720 with 1 Axes>"
      ]
     },
     "metadata": {
      "needs_background": "light"
     },
     "output_type": "display_data"
    }
   ],
   "source": [
    "#对测试结果排序\n",
    "sorted_test_results = sorted(conv_test_results, key=lambda x:x[1], reverse=True)\n",
    "\n",
    "models,results = zip(*sorted_test_results)\n",
    "\n",
    "# plt.barh(models,results,align='center',height=0.5)\n",
    "import matplotlib as mpl\n",
    "\n",
    "mpl.rcParams['font.sans-serif'] = ['SimHei'] #为了图表中的汉字显示正常\n",
    "mpl.rcParams['font.family']='sans-serif'\n",
    "\n",
    "fig,ax=plt.subplots(figsize=(14,10))\n",
    "b=ax.barh(models,results,color='#6699CC')  #绘制横向柱状图\n",
    "ax.set_title('各模型在测试集上的准确率')  #设置图标题\n",
    "ax.set_xlabel('分类准确率')\n",
    "ax.set_ylabel('模型')\n",
    "for rect in b: \n",
    "    w=rect.get_width()\n",
    "    ax.text(w,rect.get_y()+rect.get_height()/2,'%f'%float(w),ha='left',va='center') #加数据标签\n",
    "plt.show()"
   ]
  },
  {
   "cell_type": "code",
   "execution_count": null,
   "metadata": {},
   "outputs": [],
   "source": []
  }
 ],
 "metadata": {
  "kernelspec": {
   "display_name": "Python 3",
   "language": "python",
   "name": "python3"
  },
  "language_info": {
   "codemirror_mode": {
    "name": "ipython",
    "version": 3
   },
   "file_extension": ".py",
   "mimetype": "text/x-python",
   "name": "python",
   "nbconvert_exporter": "python",
   "pygments_lexer": "ipython3",
   "version": "3.7.3"
  }
 },
 "nbformat": 4,
 "nbformat_minor": 2
}
